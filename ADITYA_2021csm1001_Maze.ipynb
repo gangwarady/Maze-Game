{
  "nbformat": 4,
  "nbformat_minor": 0,
  "metadata": {
    "colab": {
      "name": "ADITYA_2021csm1001_Maze.ipynb",
      "provenance": [],
      "collapsed_sections": []
    },
    "kernelspec": {
      "name": "python3",
      "display_name": "Python 3"
    },
    "language_info": {
      "name": "python"
    }
  },
  "cells": [
    {
      "cell_type": "markdown",
      "source": [
        "##Save the world from Cersei Lannister (in a maze game setup).##\n",
        "\n",
        "Story:\n",
        "Melisandre, also known as red woman, was born in the city of Melony (this city lies in the centre of the maze world), and is known to have supernatural powers. She has been known to be lived for 2000 years and used her sorcery to save the world from evil lannisters. It has been recently known that her immortality comes from the pendant she wears and few wise men say that the owner can only live for a few seconds without the magical pendant.\t\n",
        "But on a very dark day, evil Cersei Lannister stole her pendant and hidden herself into an unknown city of labyrinths. Now it’s our time to save the world and find Cersei as soon as possible and return the pendant to Melisandre and return balance to the world. Thanks to AI this could be done in a very fast and efficient manner. \n",
        "Agent Jon Snow (the AI master) is put up to the task of finding the pendant. Thanks to agent Snow we came to know the location of where cercei is hiding and we also have the maze world map. But it will take ages for a person to reach there but with agent snow’s AI mastership this could be done in mere seconds. \n",
        "_______________________________________\n",
        "\n",
        "The maze world is generated from empty grid and then adding walls of random length to random locations.\n",
        "\n",
        "The goal is to find a path from corner to corner. Possible moves are Up, Down, Left or Right. Distance or length is measured with manhattan distance which is the sum of vertical and horizontal lengths.\n",
        "\n",
        "Algorithms to compare to find a path :\n",
        "\n",
        "\n",
        "*   BFS: breadth first search \n",
        "*   DFS: depth first search  \n",
        "*   UCS: Uniform-Cost Search  \n",
        "*   IDS: Iterative Deepning Search \n",
        "*   A* (A-star) heuristic Search \n",
        "\n",
        "\n",
        "### Write code in Algorithm section below###\n",
        "\n",
        "There are two performance metrics:\n",
        "\n",
        "1.   Number of nodes explored\n",
        "2.   Time taken for execution\n"
      ],
      "metadata": {
        "id": "nmwQLEet_1zK"
      }
    },
    {
      "cell_type": "markdown",
      "source": [
        "# The maze"
      ],
      "metadata": {
        "id": "DfIALoWOV7oV"
      }
    },
    {
      "cell_type": "code",
      "source": [
        "import numpy as np\n",
        "\n",
        "\n",
        "def create_maze(size, n_walls, length_walls=0.3):\n",
        "    maze = np.ones((size, size), dtype=bool)\n",
        "\n",
        "    for i in range(n_walls):\n",
        "        row, col = np.random.randint(0, size - 1, 2)\n",
        "\n",
        "        wall = np.random.poisson(length_walls) * np.random.choice([-1, 1])\n",
        "\n",
        "        if np.random.choice([True, False]):\n",
        "            row = make_range(row, wall, size)\n",
        "        else:\n",
        "            col = make_range(col, wall, size)\n",
        "\n",
        "        maze[row, col] = False\n",
        "\n",
        "    maze[0, 0] = True\n",
        "    maze[size - 1, size - 1] = True\n",
        "    return maze\n",
        "\n",
        "\n",
        "def make_range(start, length, m):\n",
        "    d = np.clip(np.array([start + length, start]), 0, m - 1)\n",
        "    return list(range(d.min(), d.max() + 1))\n"
      ],
      "metadata": {
        "id": "Mhge1BnnVmp1"
      },
      "execution_count": null,
      "outputs": []
    },
    {
      "cell_type": "markdown",
      "source": [
        "# Algorithm section"
      ],
      "metadata": {
        "id": "hBCWnzRlWJI_"
      }
    },
    {
      "cell_type": "code",
      "source": [
        "\"\"\"\n",
        "Write a function for each algorithm in this section\n",
        "\"\"\"\n",
        "def bfs( maze, start, goal): #BFS\n",
        "  (x,y)=start\n",
        "  fin=False\n",
        "  count=0\n",
        "  dict = {}\n",
        "  queue=[]\n",
        "  explored=[]\n",
        "  visited={}\n",
        "  for i in range(SIZE):\n",
        "    for j in range(SIZE):\n",
        "      visited[(i,j)]=0\n",
        "  path=[]\n",
        "  queue.append((x,y))\n",
        "  visited[(x,y)]=1\n",
        "  explored.append((x,y))\n",
        "  while(queue):\n",
        "    (x,y)=queue.pop(0)\n",
        "    if((x,y)==goal):\n",
        "      fin=True\n",
        "      break\n",
        "    if(x+1<SIZE):\n",
        "      if(visited[(x+1,y)]!=1 and maze[(x+1,y)]==True):\n",
        "        dict[(x+1,y)]= (x,y)\n",
        "        visited[(x+1,y)]=1\n",
        "        explored.append((x+1,y))\n",
        "        queue.append((x+1,y))\n",
        "    if(y+1<SIZE):\n",
        "      if(visited[(x,y+1)]!=1 and maze[(x,y+1)]==True):\n",
        "        dict[(x,y+1)]= (x,y)\n",
        "        visited[(x,y+1)]=1\n",
        "        explored.append((x,y+1))\n",
        "        queue.append((x,y+1))\n",
        "    if(x-1>=0):\n",
        "      if(visited[(x-1,y)]!=1 and maze[(x-1,y)]==True):\n",
        "        dict[(x-1,y)]= (x,y)\n",
        "        visited[(x-1,y)]=1\n",
        "        explored.append((x-1,y))\n",
        "        queue.append((x-1,y))\n",
        "    if(y-1>=0):\n",
        "      if(visited[(x,y-1)]!=1 and maze[(x,y-1)]==True):\n",
        "        dict[(x,y-1)]= (x,y)\n",
        "        visited[(x,y-1)]=1\n",
        "        explored.append((x,y-1))\n",
        "        queue.append((x,y-1))\n",
        "    count=count+1\n",
        "\n",
        "  if(fin):\n",
        "    while((x,y)!=start):\n",
        "        path.append((x,y))\n",
        "        (x,y)=dict[x,y]\n",
        "    path.append(start)\n",
        "    \n",
        "\n",
        "  return fin, explored, path\n",
        "\n",
        "\n",
        "def dfs( maze, start, goal):  #DFS\n",
        "  (x,y)=start\n",
        "  stack=[]\n",
        "  visited={}\n",
        "  for i in range(SIZE):\n",
        "    for j in range(SIZE):\n",
        "      visited[(i,j)]=0\n",
        "  fin=False\n",
        "  dict = {}\n",
        "  path=[]\n",
        "  explored=[]\n",
        "  stack.append((x,y))\n",
        "  visited[(x,y)]=1\n",
        "  explored.append((x,y))\n",
        "  while(stack):\n",
        "    (x,y)=stack.pop()\n",
        "    if((x,y)==goal):\n",
        "      fin=True\n",
        "      break\n",
        "    if(x+1<SIZE):\n",
        "      if(visited[(x+1,y)]!=1 and maze[(x+1,y)]==True):\n",
        "        dict[(x+1,y)]= (x,y)\n",
        "        visited[(x+1,y)]=1\n",
        "        explored.append((x+1,y))\n",
        "        stack.append((x+1,y))\n",
        "    if(y+1<SIZE):\n",
        "      if(visited[(x,y+1)]!=1 and maze[(x,y+1)]==True):\n",
        "        dict[(x,y+1)]= (x,y)\n",
        "        visited[(x,y+1)]=1\n",
        "        explored.append((x,y+1))\n",
        "        stack.append((x,y+1))\n",
        "    if(x-1>=0):\n",
        "      if(visited[(x-1,y)]!=1 and maze[(x-1,y)]==True):\n",
        "        dict[(x-1,y)]= (x,y)\n",
        "        visited[(x-1,y)]=1\n",
        "        explored.append((x-1,y))\n",
        "        stack.append((x-1,y))\n",
        "    if(y-1>=0):\n",
        "      if(visited[(x,y-1)]!=1 and maze[(x,y-1)]==True):\n",
        "        dict[(x,y-1)]= (x,y)\n",
        "        visited[(x,y-1)]=1\n",
        "        explored.append((x,y-1))\n",
        "        stack.append((x,y-1))\n",
        "    \n",
        "  if(fin):\n",
        "    while((x,y)!=start):\n",
        "        path.append((x,y))\n",
        "        (x,y)=dict[x,y]\n",
        "    path.append(start)\n",
        "    \n",
        "\n",
        "  return fin, explored, path\n",
        "\n",
        "def ucs( maze, start, goal):  #UCS\n",
        "  (x,y)=start\n",
        "  cost={}\n",
        "  fin=False\n",
        "  dict = {}\n",
        "  path=[]\n",
        "  explored=[]\n",
        "  from queue import PriorityQueue\n",
        "  pq = PriorityQueue()\n",
        "  for i in range(SIZE):\n",
        "    for j in range(SIZE):\n",
        "      cost[(i,j)]=1000000\n",
        "\n",
        "  cost[(x,y)]=0\n",
        "  pq.put((cost[(x,y)],(x,y)))\n",
        "  explored.append((x,y))\n",
        "  while not pq.empty():\n",
        "    it=pq.get()\n",
        "    (x,y)=it[1]\n",
        "    if((x,y)==goal):\n",
        "      fin=True\n",
        "      break\n",
        "    if(x+1<SIZE):\n",
        "      if(maze[(x+1,y)]==True):\n",
        "        if(cost[(x+1,y)]>(cost[(x,y)]+1)):\n",
        "          cost[(x+1),y]=(cost[(x,y)]+1)\n",
        "          dict[(x+1,y)]= (x,y)\n",
        "          explored.append((x+1,y))\n",
        "          pq.put((cost[(x,y)]+1,(x+1,y)))\n",
        "        \n",
        "\n",
        "    if(y+1<SIZE):\n",
        "      if(maze[(x,y+1)]==True):\n",
        "        if(cost[(x,y+1)]>(cost[(x,y)]+1)):\n",
        "          cost[(x,y+1)]=(cost[(x,y)]+1)\n",
        "          dict[(x,y+1)]= (x,y)\n",
        "          explored.append((x,y+1))\n",
        "          pq.put((cost[(x,y)]+1,(x,y+1)))\n",
        "    \n",
        "\n",
        "    if(x-1>=0):\n",
        "      if(maze[(x-1,y)]==True):\n",
        "        if(cost[(x-1,y)]>(cost[(x,y)]+1)):\n",
        "          cost[(x-1,y)]=(cost[(x,y)]+1)\n",
        "          dict[(x-1,y)]= (x,y)\n",
        "          explored.append((x-1,y))\n",
        "          pq.put((cost[(x,y)]+1,(x-1,y)))\n",
        "        \n",
        "    if(y-1>=0):\n",
        "      if(maze[(x,y-1)]==True):\n",
        "        if(cost[(x,y-1)]>(cost[(x,y)]+1)):\n",
        "          cost[(x,y-1)]=(cost[(x,y)]+1)\n",
        "          dict[(x,y-1)]= (x,y)\n",
        "          explored.append((x,y-1))\n",
        "          pq.put((cost[(x,y)]+1,(x,y-1)))\n",
        "        \n",
        "\n",
        "  if(fin):\n",
        "    while((x,y)!=start):\n",
        "        path.append((x,y))\n",
        "        (x,y)=dict[x,y]\n",
        "    path.append(start)\n",
        "    \n",
        "\n",
        "  return fin, explored, path\n",
        "\n",
        "\n",
        "def dfs_ids(maze , start, goal, threshold):\n",
        "  depth=0\n",
        "  (x,y)=start\n",
        "  stack=[]\n",
        "  visited={}\n",
        "  explored=[]\n",
        "  fin=False\n",
        "  dict = {}\n",
        "  height = {}\n",
        "  path=[]\n",
        "  for i in range(SIZE):\n",
        "    for j in range(SIZE):\n",
        "      visited[(i,j)]=0\n",
        "  stack.append((x,y))\n",
        "  visited[(x,y)]=1\n",
        "  explored.append((x,y))\n",
        "  height[(x,y)]=0\n",
        "  while(stack):\n",
        "    depth=depth+1\n",
        "    (x,y)=stack.pop()\n",
        "    if((x,y)==goal):\n",
        "      fin=True\n",
        "      break\n",
        "    if(x+1<SIZE):\n",
        "      if(visited[(x+1,y)]!=1 and maze[(x+1,y)]==True and height[(x,y)]<threshold):\n",
        "        dict[(x+1,y)]= (x,y)\n",
        "        visited[(x+1,y)]=1\n",
        "        explored.append((x+1,y))\n",
        "        stack.append((x+1,y))\n",
        "        height[(x+1,y)]=height[(x,y)]+1\n",
        "    if(y+1<SIZE):\n",
        "      if(visited[(x,y+1)]!=1 and maze[(x,y+1)]==True and height[(x,y)]<threshold):\n",
        "        dict[(x,y+1)]= (x,y)\n",
        "        visited[(x,y+1)]=1\n",
        "        explored.append((x,y+1))\n",
        "        stack.append((x,y+1))\n",
        "        height[(x,y+1)]=height[(x,y)]+1\n",
        "    if(x-1>=0):\n",
        "      if(visited[(x-1,y)]!=1 and maze[(x-1,y)]==True and height[(x,y)]<threshold):\n",
        "        dict[(x-1,y)]= (x,y)\n",
        "        visited[(x-1,y)]=1\n",
        "        explored.append((x-1,y))\n",
        "        stack.append((x-1,y))\n",
        "        height[(x-1,y)]=height[(x,y)]+1\n",
        "    if(y-1>=0):\n",
        "      if(visited[(x,y-1)]!=1 and maze[(x,y-1)]==True and height[(x,y)]<threshold):\n",
        "        dict[(x,y-1)]= (x,y)\n",
        "        visited[(x,y-1)]=1\n",
        "        explored.append((x,y-1))\n",
        "        stack.append((x,y-1))\n",
        "        height[(x,y-1)]=height[(x,y)]+1\n",
        "    \n",
        "  if(fin):\n",
        "    while((x,y)!=start):\n",
        "        path.append((x,y))\n",
        "        (x,y)=dict[x,y]\n",
        "    path.append(start)\n",
        "    \n",
        "\n",
        "  return fin, explored, path\n",
        "\n",
        "\n",
        "def ids( maze, start, goal):   #IDS\n",
        "  explore=[]\n",
        "  fin=False\n",
        "  path=[]\n",
        "  \n",
        "\n",
        "  \n",
        "  total=SIZE**2\n",
        "  i=0\n",
        "  while(i<=total):\n",
        "    fin, explore, path=dfs_ids(maze , start, goal, i)\n",
        "    if(fin==True):\n",
        "      break\n",
        "    else:\n",
        "      i=i+total\n",
        "  \n",
        "  return fin, explore, path\n",
        "\n",
        "\n",
        "def heuristic(curr, goal):\n",
        "  n1,n2=curr\n",
        "  g1,g2=goal\n",
        "\n",
        "  res= abs(n1-n2) + abs(g1-g2)\n",
        "\n",
        "  return res\n",
        "\n",
        "\n",
        "\n",
        "def astar( maze, start, goal):  # A*\n",
        "  (x,y)=start\n",
        "  explored=[]\n",
        "  fin=False\n",
        "  dict = {}\n",
        "  path = []\n",
        "  gn={}\n",
        "  fn={}\n",
        "  for i in range(SIZE):\n",
        "    for j in range(SIZE):\n",
        "      gn[(i,j)]=float('inf')\n",
        "      fn[(i,j)]=float('inf')\n",
        "  gn[(x,y)]=0\n",
        "  fn[(x,y)]= heuristic((x,y), goal) + gn[(x,y)]\n",
        "  from queue import PriorityQueue\n",
        "  prq = PriorityQueue()\n",
        "  prq.put((fn[(x,y)],heuristic((x,y), goal), (x,y)))\n",
        "  explored.append((x,y))\n",
        "  while not prq.empty():\n",
        "    (x,y)=prq.get()[2]\n",
        "    if((x,y)==goal):\n",
        "      fin=True\n",
        "      break\n",
        "    if(x+1<SIZE):\n",
        "      if(maze[(x+1,y)]==True):\n",
        "        if(fn[(x+1,y)]>(heuristic((x+1,y), goal) + gn[(x,y)]+1)):\n",
        "          gn[(x+1,y)]=gn[(x,y)]+1\n",
        "          fn[(x+1,y)]=heuristic((x+1,y), goal) + gn[(x+1,y)]\n",
        "          dict[(x+1,y)]= (x,y)\n",
        "          explored.append((x+1,y))\n",
        "          prq.put((fn[(x+1,y)],heuristic((x+1,y), goal), (x+1,y)))\n",
        "        \n",
        "\n",
        "    if(y+1<SIZE):\n",
        "      if(maze[(x,y+1)]==True):\n",
        "        if(fn[(x,y+1)]>(heuristic((x,y+1), goal) + gn[(x,y)]+1)):\n",
        "          gn[(x,y+1)]=gn[(x,y)]+1\n",
        "          fn[(x,y+1)]=heuristic((x,y+1), goal) + gn[(x,y+1)]\n",
        "          dict[(x,y+1)]= (x,y)\n",
        "          explored.append((x,y+1))\n",
        "          prq.put((fn[(x,y+1)],heuristic((x,y+1), goal), (x,y+1)))\n",
        "    \n",
        "\n",
        "    if(x-1>=0):\n",
        "      if(maze[(x-1,y)]==True):\n",
        "        if(fn[(x-1,y)]>(heuristic((x-1,y), goal) + gn[(x,y)]+1)):\n",
        "          gn[(x-1,y)]=gn[(x,y)]+1\n",
        "          fn[(x-1,y)]=heuristic((x-1,y), goal) + gn[(x-1,y)]\n",
        "          dict[(x-1,y)]= (x,y)\n",
        "          explored.append((x-1,y))\n",
        "          prq.put((fn[(x-1,y)],heuristic((x-1,y), goal), (x-1,y)))\n",
        "        \n",
        "    if(y-1>=0):\n",
        "      if(maze[(x,y-1)]==True):\n",
        "        if(fn[(x,y-1)]>(heuristic((x,y-1), goal) + gn[(x,y)]+1)):\n",
        "          gn[(x,y-1)]=gn[(x,y)]+1\n",
        "          fn[(x,y-1)]=heuristic((x,y-1), goal) + gn[(x,y-1)]\n",
        "          dict[(x,y-1)]= (x,y)\n",
        "          explored.append((x,y-1))\n",
        "          prq.put((fn[(x,y-1)],heuristic((x,y-1), goal), (x,y-1)))\n",
        "        \n",
        "\n",
        "  if(fin):\n",
        "    while((x,y)!=start):\n",
        "        path.append((x,y))\n",
        "        (x,y)=dict[x,y]\n",
        "    path.append(start)\n",
        "    \n",
        "\n",
        "  return fin, explored, path\n",
        "\n",
        "\n",
        "\n",
        "\n",
        "\n"
      ],
      "metadata": {
        "id": "zjJLSiY3V1u4"
      },
      "execution_count": null,
      "outputs": []
    },
    {
      "cell_type": "markdown",
      "source": [
        "# Execution section"
      ],
      "metadata": {
        "id": "ebeRsG8jWMg8"
      }
    },
    {
      "cell_type": "code",
      "execution_count": null,
      "metadata": {
        "id": "itQRrX6yEHvG",
        "colab": {
          "base_uri": "https://localhost:8080/"
        },
        "outputId": "49f28832-b691-4cf6-d6f8-b03b922bdddb"
      },
      "outputs": [
        {
          "output_type": "stream",
          "name": "stderr",
          "text": [
            "100%|██████████| 1000/1000 [04:41<00:00,  3.55it/s]"
          ]
        },
        {
          "output_type": "stream",
          "name": "stdout",
          "text": [
            "| finished   | algo   |   seconds |   n_explored |   length_path |   count |\n",
            "|:-----------|:-------|----------:|-------------:|--------------:|--------:|\n",
            "| False      | A-star | 0.0608455 |      2898.16 |       nan     |     430 |\n",
            "| False      | BFS    | 0.0140552 |      2725.14 |       nan     |     430 |\n",
            "| False      | DFS    | 0.0142045 |      2725.14 |       nan     |     430 |\n",
            "| False      | IDS    | 0.017495  |      2725.14 |       nan     |     430 |\n",
            "| False      | UCS    | 0.0429792 |      2725.14 |       nan     |     430 |\n",
            "| True       | A-star | 0.126115  |      6483.81 |       212.393 |     570 |\n",
            "| True       | BFS    | 0.033923  |      7116.42 |       212.393 |     570 |\n",
            "| True       | DFS    | 0.0272912 |      5991.59 |      1710.79  |     570 |\n",
            "| True       | IDS    | 0.0332831 |      5991.59 |      1710.79  |     570 |\n",
            "| True       | UCS    | 0.109999  |      7124.66 |       212.393 |     570 |\n",
            "\n",
            "      round  finished  n_explored  length_path   seconds    algo\n",
            "0         0      True        6990       1519.0  0.031360     DFS\n",
            "1         0      True        6132        247.0  0.032057     BFS\n",
            "2         0      True        6154        247.0  0.092804     UCS\n",
            "3         0      True        6990       1519.0  0.038578     IDS\n",
            "4         0      True        6397        247.0  0.129593  A-star\n",
            "...     ...       ...         ...          ...       ...     ...\n",
            "4995    999     False          60          NaN  0.002584     DFS\n",
            "4996    999     False          60          NaN  0.002097     BFS\n",
            "4997    999     False          60          NaN  0.002688     UCS\n",
            "4998    999     False          60          NaN  0.003841     IDS\n",
            "4999    999     False          60          NaN  0.009163  A-star\n",
            "\n",
            "[5000 rows x 6 columns]\n"
          ]
        },
        {
          "output_type": "stream",
          "name": "stderr",
          "text": [
            "\n",
            "/usr/local/lib/python3.7/dist-packages/ipykernel_launcher.py:74: FutureWarning: Indexing with multiple keys (implicitly converted to a tuple of keys) will be deprecated, use a list instead.\n"
          ]
        }
      ],
      "source": [
        "from collections import namedtuple #Like the dictionary type objects, it contains keys and that are mapped \n",
        "#to some values. In this case we can access the elements using keys and indexes.\n",
        "\n",
        "from functools import partial # You can create partial functions in python by using the partial function from \n",
        "#the functools library. Partial functions allow one to derive a function with x parameters to a function \n",
        "#with fewer parameters and fixed values set for the more limited function.\n",
        "\n",
        "from timeit import default_timer as timer\n",
        "import matplotlib.animation as ani\n",
        "import matplotlib.pyplot as plt\n",
        "import numpy as np\n",
        "import pandas as pd\n",
        "\n",
        "import tabulate #Tabulate is an open-source python package/module which is used to print \n",
        "#tabular data in nicely formatted tables\n",
        "\n",
        "import tqdm\n",
        "import os\n",
        "\n",
        "np.random.seed(0)\n",
        "\n",
        "SIZE = 100\n",
        "START = (0, 0) \n",
        "GOAL = (SIZE - 1, SIZE - 1)\n",
        "OBSTACLE_COUNT = SIZE ** 2 // 30\n",
        "OBSTACLE_SIZE = 7\n",
        "\n",
        "ALGOS = [\n",
        "    (\"DFS\", partial(dfs, start=START, goal=GOAL)),\n",
        "    (\"BFS\", partial(bfs, start=START, goal=GOAL)),\n",
        "    (\"UCS\", partial(ucs, start=START, goal=GOAL)),\n",
        "    (\"IDS\", partial(ids, start=START, goal=GOAL)),\n",
        "    (\n",
        "        \"A-star\",\n",
        "        partial(astar, start=START, goal=GOAL),\n",
        "    ),\n",
        "]\n",
        "\n",
        "Result = namedtuple(\n",
        "    \"Result\", [\"round\", \"finished\", \"n_explored\", \"length_path\", \"seconds\", \"algo\"]\n",
        ")\n",
        "\n",
        "\n",
        "def simulate(n, max_good_mazes=float(\"inf\")):\n",
        "    results = []\n",
        "    good_mazes = []\n",
        "    for i in tqdm.tqdm(range(n), mininterval=1):\n",
        "        maze = create_maze(SIZE, OBSTACLE_COUNT, OBSTACLE_SIZE)\n",
        "        for algo_name, algo in ALGOS:\n",
        "            time_start = timer()\n",
        "            finished, explored_nodes, path = algo(maze)\n",
        "            time_end = timer()\n",
        "            r = Result(\n",
        "                round=i,\n",
        "                finished=finished,\n",
        "                n_explored=len(explored_nodes),\n",
        "                length_path=None if not finished else len(path),\n",
        "                seconds=time_end - time_start,\n",
        "                algo=algo_name,\n",
        "            )\n",
        "            results.append(r)\n",
        "            if finished and algo_name == ALGOS[0][0]:\n",
        "                good_mazes.append(maze)\n",
        "                if len(good_mazes) >= max_good_mazes:\n",
        "                    break\n",
        "\n",
        "    results_df = pd.DataFrame(results)\n",
        "    return results_df, good_mazes\n",
        "\n",
        "result_df, good_mazes = simulate(1000)\n",
        "\n",
        "\"\"\" for reference to print the results in a table format\"\"\"\n",
        "result_agg = result_df.groupby([\"finished\", \"algo\"])[\n",
        "    \"seconds\", \"n_explored\", \"length_path\"\n",
        " ].mean()\n",
        "\n",
        "result_agg[\"count\"] = result_df.groupby([\"finished\", \"algo\"]).size()\n",
        "result_agg = result_agg.reset_index()\n",
        "\n",
        "print(tabulate.tabulate(result_agg.values, result_agg.columns, tablefmt=\"pipe\"))\n",
        "print(\"\")\n",
        "print(result_df)\n",
        "\n",
        "\n"
      ]
    },
    {
      "cell_type": "markdown",
      "source": [
        "# Observations from the table:\n",
        "\n",
        "\n",
        "*   As we can see from the above table, **A-star, BFS, UCS** return the **least cost (optimal) solution.**\n",
        "*   **A-star** return the least cost solution because it uses h(n) and g(n)  (f(n) = h(n) + g(n)) to find the goal state.\n",
        "\n",
        "\n",
        "*   **BFS** tries to do level search i.e it searches all the states level-by-level until goal state is found. As in the maze problem all the operators have equal cost, so the BFS also returns us the least cost solution.\n",
        "*   For **UCS**, I have taken cost of every step to be 1, that is why it also returns us the least cost solution as then it acts similar to BFS.\n",
        "\n",
        "\n",
        "*   **DFS and IDS don't** necessarily return the **least least cost solution**.\n",
        "*   **DFS** uses the depth first search technique.\n",
        "\n",
        "\n",
        "*   **IDS** is similar to DFS, the only difference is searches only until a threshold value of depth. This threshold value keeps increasing by 1 until goal state is found.\n",
        "\n",
        "\n",
        "\n",
        "\n",
        "\n",
        "\n",
        "\n",
        "\n"
      ],
      "metadata": {
        "id": "Yf4N4Y61BLLz"
      }
    },
    {
      "cell_type": "markdown",
      "source": [
        "# Graph plots & Observations\n",
        "\n",
        "---\n",
        "\n",
        "Plot graphs related to the various parameters of algorithms for the various test cases given in the next section. \n",
        "\n",
        "1.   Plot one graph, which compares the number of nodes explored by every algorithm, while solving the problem.\n",
        "\n",
        "2.  Plot another graph, comparing the total time taken by each algorithm to complete the execution. \n",
        "\n",
        "## Libraries for reference\n",
        "https://seaborn.pydata.org/\n",
        "\n",
        "https://matplotlib.org/stable/api/_as_gen/matplotlib.pyplot.html\n",
        "\n",
        "https://matplotlib.org/stable/tutorials/introductory/pyplot.html\n",
        "\n",
        "\n",
        " \n"
      ],
      "metadata": {
        "id": "YnkNtQFDc410"
      }
    },
    {
      "cell_type": "code",
      "source": [
        "\"\"\" graph plot code and observations\"\"\"\n",
        "import matplotlib.pyplot as plt\n",
        "import seaborn as sns\n",
        "\n",
        "sns.barplot(x=\"algo\", y=\"n_explored\",data=result_df, palette=\"husl\",lw=3,ec=\"black\",hatch=\"..\")"
      ],
      "metadata": {
        "colab": {
          "base_uri": "https://localhost:8080/",
          "height": 296
        },
        "id": "mwltq1AgYqAy",
        "outputId": "1aa4a9bc-3402-4df1-da93-9008a9174f42"
      },
      "execution_count": null,
      "outputs": [
        {
          "output_type": "execute_result",
          "data": {
            "text/plain": [
              "<matplotlib.axes._subplots.AxesSubplot at 0x7f7b9879ad10>"
            ]
          },
          "metadata": {},
          "execution_count": 40
        },
        {
          "output_type": "display_data",
          "data": {
            "image/png": "[encoded data removed]",
            "text/plain": [
              "<Figure size 432x288 with 1 Axes>"
            ]
          },
          "metadata": {
            "needs_background": "light"
          }
        }
      ]
    },
    {
      "cell_type": "markdown",
      "source": [
        "**Observations:**\n",
        "\n",
        "\n",
        "*   As we can see from the graph above, **BFS and UCS** return the most number of nodes explored.\n",
        "*   **BFS** does level-by-level search so it explores all the nodes at one level and then only goes to the next level. So, the number of explored nodes increases significantly.\n",
        "\n",
        "\n",
        "*   In the case of **UCS**, the nodes explored depends upen the cost to reach the node. But in our example all the costs are equal so UCS in our example acts similar to BFS. That is it also does level by level search to find the goal state. So, **BFS and UCS return the most and similar explored nodes**.\n",
        "*   **DFS** does depth first search. So it tries to find the goal state as quickly as possible by not worrying about the cost of the search. DFS performs best with respect to space complexity.\n",
        "\n",
        "\n",
        "*   **IDS** helps in avoiding dfs to go in an infinite path by giving a threshold value to depth. IDS keeps increasing this threshold value by 1 until goal state is found. So, number of nodes explored in IDS is also similar to DFS\n",
        "*   Nodes explored in **A-star** depends upon h(n) and g(n) as f(n) helps us to decide which node to explore next. In our problem A-star returns less number of nodes explored than BFS and UCS but returns higher number of nodes explored than DFS and IDS.\n",
        "\n",
        "\n",
        "\n",
        "\n",
        "\n"
      ],
      "metadata": {
        "id": "Ik_izTXYLvG2"
      }
    },
    {
      "cell_type": "code",
      "source": [
        "\n",
        "sns.barplot(x=\"algo\", y=\"seconds\",data=result_df, palette=\"husl\",lw=3,ec=\"black\",hatch=\"..\")"
      ],
      "metadata": {
        "id": "gmlisxN_dSp9",
        "colab": {
          "base_uri": "https://localhost:8080/",
          "height": 296
        },
        "outputId": "27af39be-dc0a-4501-9989-6f03652a5069"
      },
      "execution_count": null,
      "outputs": [
        {
          "output_type": "execute_result",
          "data": {
            "text/plain": [
              "<matplotlib.axes._subplots.AxesSubplot at 0x7f7b98661850>"
            ]
          },
          "metadata": {},
          "execution_count": 41
        },
        {
          "output_type": "display_data",
          "data": {
            "image/png": "[encoded data removed]",
            "text/plain": [
              "<Figure size 432x288 with 1 Axes>"
            ]
          },
          "metadata": {
            "needs_background": "light"
          }
        }
      ]
    },
    {
      "cell_type": "markdown",
      "source": [
        "**Observations:**\n",
        "\n",
        "\n",
        "*   **DFS** find the goal state in least time as it does the depth first search. It tries to find the goal state as quickly as possible without worrying about the optimal cost.\n",
        "*   **BFS** takes more time than DFS as it does level by level search where it doesn't care about time to find the goal state. It tries to find the goal state in each level.\n",
        "\n",
        "\n",
        "*   **IDS** also takes more time than DFS as IDS does repetitive work as in it keeps changing the threshold value and keeps on finding the goal state from the initial state. So it does more work than DFS and hence takes more time.\n",
        "*  **UCS** takes more time than DFS, BFS and IDS as I have used priority queue in UCS as it find the next least cost state. So a lot of time is taken in inserting child states into the priority queue as priority queue is always sorted.\n",
        "\n",
        "\n",
        "*   **A-star** takes the most time to find the goal state due to 2 reasons: first that it also uses a priority queue to insert f(n) of child states as our next state is the least f(n) of child states and we know that priority queue is sorted by default. Second reason is that f(n) depends upon h(n) and g(n). So a wrong heuristic function h(n) can take us further away from the goal state which will result in furter delay to find the goal state.\n",
        "\n",
        "\n",
        "\n",
        "\n",
        "\n",
        "\n"
      ],
      "metadata": {
        "id": "j8pY4guCTUb1"
      }
    },
    {
      "cell_type": "markdown",
      "source": [
        "### Test Case 1:\n"
      ],
      "metadata": {
        "id": "EaSkBfP4LJbh"
      }
    },
    {
      "cell_type": "code",
      "source": [
        "START = (1, 1) \n",
        "GOAL = (SIZE - 1, SIZE - 1)\n",
        "result_df, good_mazes = simulate(1000)\n",
        "result_agg = result_df.groupby([\"finished\", \"algo\"])[\n",
        "    \"seconds\", \"n_explored\", \"length_path\"\n",
        " ].mean()\n",
        "\n",
        "result_agg[\"count\"] = result_df.groupby([\"finished\", \"algo\"]).size()\n",
        "result_agg = result_agg.reset_index()\n",
        "\n",
        "print(tabulate.tabulate(result_agg.values, result_agg.columns, tablefmt=\"pipe\"))\n"
      ],
      "metadata": {
        "id": "_ZlgQFqvLHMJ",
        "colab": {
          "base_uri": "https://localhost:8080/"
        },
        "outputId": "d1be8b3c-de2f-4f43-d1d2-8c376becc21f"
      },
      "execution_count": null,
      "outputs": [
        {
          "output_type": "stream",
          "name": "stderr",
          "text": [
            "100%|██████████| 1000/1000 [04:31<00:00,  3.68it/s]"
          ]
        },
        {
          "output_type": "stream",
          "name": "stdout",
          "text": [
            "| finished   | algo   |   seconds |   n_explored |   length_path |   count |\n",
            "|:-----------|:-------|----------:|-------------:|--------------:|--------:|\n",
            "| False      | A-star | 0.0545113 |      2544.48 |       nan     |     447 |\n",
            "| False      | BFS    | 0.0125716 |      2387.55 |       nan     |     447 |\n",
            "| False      | DFS    | 0.0128738 |      2387.55 |       nan     |     447 |\n",
            "| False      | IDS    | 0.0158832 |      2387.55 |       nan     |     447 |\n",
            "| False      | UCS    | 0.038111  |      2387.55 |       nan     |     447 |\n",
            "| True       | A-star | 0.125867  |      6492.28 |       212.573 |     553 |\n",
            "| True       | BFS    | 0.0337167 |      7119.02 |       212.573 |     553 |\n",
            "| True       | DFS    | 0.0270358 |      6026.42 |      1718.37  |     553 |\n",
            "| True       | IDS    | 0.0333984 |      6026.42 |      1718.37  |     553 |\n",
            "| True       | UCS    | 0.110589  |      7127.03 |       212.573 |     553 |\n"
          ]
        },
        {
          "output_type": "stream",
          "name": "stderr",
          "text": [
            "\n",
            "/usr/local/lib/python3.7/dist-packages/ipykernel_launcher.py:5: FutureWarning: Indexing with multiple keys (implicitly converted to a tuple of keys) will be deprecated, use a list instead.\n",
            "  \"\"\"\n"
          ]
        }
      ]
    },
    {
      "cell_type": "markdown",
      "source": [
        "### Test Case 2"
      ],
      "metadata": {
        "id": "mpkj2e58TUaN"
      }
    },
    {
      "cell_type": "code",
      "source": [
        "START = (2, 0) \n",
        "GOAL = (SIZE - 1, SIZE - 1)\n",
        "result_df, good_mazes = simulate(1000)\n",
        "result_agg = result_df.groupby([\"finished\", \"algo\"])[\n",
        "    \"seconds\", \"n_explored\", \"length_path\"\n",
        " ].mean()\n",
        "\n",
        "result_agg[\"count\"] = result_df.groupby([\"finished\", \"algo\"]).size()\n",
        "result_agg = result_agg.reset_index()\n",
        "\n",
        "print(tabulate.tabulate(result_agg.values, result_agg.columns, tablefmt=\"pipe\"))\n"
      ],
      "metadata": {
        "id": "my1GnnpjTUxl",
        "colab": {
          "base_uri": "https://localhost:8080/"
        },
        "outputId": "3ce610e4-b869-4ce7-a8fe-23606aabeb5f"
      },
      "execution_count": null,
      "outputs": [
        {
          "output_type": "stream",
          "name": "stderr",
          "text": [
            "100%|██████████| 1000/1000 [05:03<00:00,  3.30it/s]"
          ]
        },
        {
          "output_type": "stream",
          "name": "stdout",
          "text": [
            "| finished   | algo   |   seconds |   n_explored |   length_path |   count |\n",
            "|:-----------|:-------|----------:|-------------:|--------------:|--------:|\n",
            "| False      | A-star | 0.06111   |      2550.17 |       nan     |     420 |\n",
            "| False      | BFS    | 0.0141315 |      2399.55 |       nan     |     420 |\n",
            "| False      | DFS    | 0.0142449 |      2399.55 |       nan     |     420 |\n",
            "| False      | IDS    | 0.0174324 |      2399.55 |       nan     |     420 |\n",
            "| False      | UCS    | 0.042625  |      2399.55 |       nan     |     420 |\n",
            "| True       | A-star | 0.137076  |      6469.56 |       211.986 |     580 |\n",
            "| True       | BFS    | 0.0371215 |      7141.54 |       211.986 |     580 |\n",
            "| True       | DFS    | 0.0295919 |      6016.55 |      1742.84  |     580 |\n",
            "| True       | IDS    | 0.0364341 |      6016.55 |      1742.84  |     580 |\n",
            "| True       | UCS    | 0.119731  |      7149.51 |       211.986 |     580 |\n"
          ]
        },
        {
          "output_type": "stream",
          "name": "stderr",
          "text": [
            "\n",
            "/usr/local/lib/python3.7/dist-packages/ipykernel_launcher.py:5: FutureWarning: Indexing with multiple keys (implicitly converted to a tuple of keys) will be deprecated, use a list instead.\n",
            "  \"\"\"\n"
          ]
        }
      ]
    },
    {
      "cell_type": "markdown",
      "source": [
        "### Test Case 3"
      ],
      "metadata": {
        "id": "tZyD5cm7TUUF"
      }
    },
    {
      "cell_type": "code",
      "source": [
        "START = (1, 0) \n",
        "GOAL = (SIZE - 2, SIZE - 1)\n",
        "result_df, good_mazes = simulate(1000)\n",
        "result_agg = result_df.groupby([\"finished\", \"algo\"])[\n",
        "    \"seconds\", \"n_explored\", \"length_path\"\n",
        " ].mean()\n",
        "\n",
        "result_agg[\"count\"] = result_df.groupby([\"finished\", \"algo\"]).size()\n",
        "result_agg = result_agg.reset_index()\n",
        "\n",
        "print(tabulate.tabulate(result_agg.values, result_agg.columns, tablefmt=\"pipe\"))\n"
      ],
      "metadata": {
        "id": "ztOHMB3FTUtF",
        "colab": {
          "base_uri": "https://localhost:8080/"
        },
        "outputId": "2441665b-e304-4378-ec70-59a05c46a727"
      },
      "execution_count": null,
      "outputs": [
        {
          "output_type": "stream",
          "name": "stderr",
          "text": [
            "100%|██████████| 1000/1000 [04:45<00:00,  3.50it/s]"
          ]
        },
        {
          "output_type": "stream",
          "name": "stdout",
          "text": [
            "| finished   | algo   |   seconds |   n_explored |   length_path |   count |\n",
            "|:-----------|:-------|----------:|-------------:|--------------:|--------:|\n",
            "| False      | A-star | 0.0566552 |      2501.33 |       nan     |     436 |\n",
            "| False      | BFS    | 0.0132053 |      2345.64 |       nan     |     436 |\n",
            "| False      | DFS    | 0.0135594 |      2345.64 |       nan     |     436 |\n",
            "| False      | IDS    | 0.0166442 |      2345.64 |       nan     |     436 |\n",
            "| False      | UCS    | 0.0396152 |      2345.64 |       nan     |     436 |\n",
            "| True       | A-star | 0.129193  |      6404.31 |       212.791 |     564 |\n",
            "| True       | BFS    | 0.0353462 |      7068.43 |       212.791 |     564 |\n",
            "| True       | DFS    | 0.0287015 |      6038.74 |      1721.65  |     564 |\n",
            "| True       | IDS    | 0.0352066 |      6038.74 |      1721.65  |     564 |\n",
            "| True       | UCS    | 0.115519  |      7077.77 |       212.791 |     564 |\n"
          ]
        },
        {
          "output_type": "stream",
          "name": "stderr",
          "text": [
            "\n",
            "/usr/local/lib/python3.7/dist-packages/ipykernel_launcher.py:5: FutureWarning: Indexing with multiple keys (implicitly converted to a tuple of keys) will be deprecated, use a list instead.\n",
            "  \"\"\"\n"
          ]
        }
      ]
    },
    {
      "cell_type": "markdown",
      "source": [
        "### Test Case 4"
      ],
      "metadata": {
        "id": "GP_LgEreTUOs"
      }
    },
    {
      "cell_type": "code",
      "source": [
        "START = (3, 0) \n",
        "GOAL = (SIZE - 1, SIZE - 2)\n",
        "result_df, good_mazes = simulate(1000)\n",
        "result_agg = result_df.groupby([\"finished\", \"algo\"])[\n",
        "    \"seconds\", \"n_explored\", \"length_path\"\n",
        " ].mean()\n",
        "\n",
        "result_agg[\"count\"] = result_df.groupby([\"finished\", \"algo\"]).size()\n",
        "result_agg = result_agg.reset_index()\n",
        "\n",
        "print(tabulate.tabulate(result_agg.values, result_agg.columns, tablefmt=\"pipe\"))\n"
      ],
      "metadata": {
        "id": "8GK_f9ilTUoN",
        "colab": {
          "base_uri": "https://localhost:8080/"
        },
        "outputId": "31dea7cb-4d38-4cea-bf6f-d67bc5ecb31a"
      },
      "execution_count": null,
      "outputs": [
        {
          "output_type": "stream",
          "name": "stderr",
          "text": [
            "100%|██████████| 1000/1000 [04:45<00:00,  3.50it/s]"
          ]
        },
        {
          "output_type": "stream",
          "name": "stdout",
          "text": [
            "| finished   | algo   |   seconds |   n_explored |   length_path |   count |\n",
            "|:-----------|:-------|----------:|-------------:|--------------:|--------:|\n",
            "| False      | A-star | 0.0563928 |      2523.98 |       nan     |     436 |\n",
            "| False      | BFS    | 0.0129011 |      2377.68 |       nan     |     436 |\n",
            "| False      | DFS    | 0.0133671 |      2377.68 |       nan     |     436 |\n",
            "| False      | IDS    | 0.0165134 |      2377.68 |       nan     |     436 |\n",
            "| False      | UCS    | 0.0394647 |      2377.68 |       nan     |     436 |\n",
            "| True       | A-star | 0.133014  |      6481.51 |       212.113 |     564 |\n",
            "| True       | BFS    | 0.0350807 |      7115.84 |       212.113 |     564 |\n",
            "| True       | DFS    | 0.027992  |      5943.71 |      1707.44  |     564 |\n",
            "| True       | IDS    | 0.0341502 |      5943.71 |      1707.44  |     564 |\n",
            "| True       | UCS    | 0.11493   |      7124.31 |       212.113 |     564 |\n"
          ]
        },
        {
          "output_type": "stream",
          "name": "stderr",
          "text": [
            "\n",
            "/usr/local/lib/python3.7/dist-packages/ipykernel_launcher.py:5: FutureWarning: Indexing with multiple keys (implicitly converted to a tuple of keys) will be deprecated, use a list instead.\n",
            "  \"\"\"\n"
          ]
        }
      ]
    },
    {
      "cell_type": "markdown",
      "source": [
        "### Test Case 5"
      ],
      "metadata": {
        "id": "TaBC8wtRTUF8"
      }
    },
    {
      "cell_type": "code",
      "source": [
        "START = (1, 3) \n",
        "GOAL = (SIZE - 1, SIZE - 3)\n",
        "result_df, good_mazes = simulate(1000)\n",
        "result_agg = result_df.groupby([\"finished\", \"algo\"])[\n",
        "    \"seconds\", \"n_explored\", \"length_path\"\n",
        " ].mean()\n",
        "\n",
        "result_agg[\"count\"] = result_df.groupby([\"finished\", \"algo\"]).size()\n",
        "result_agg = result_agg.reset_index()\n",
        "\n",
        "print(tabulate.tabulate(result_agg.values, result_agg.columns, tablefmt=\"pipe\"))\n"
      ],
      "metadata": {
        "id": "fer1KlM_TWkW",
        "colab": {
          "base_uri": "https://localhost:8080/"
        },
        "outputId": "4c543f75-2f9d-4a3e-b82b-e0712f44f9ef"
      },
      "execution_count": null,
      "outputs": [
        {
          "output_type": "stream",
          "name": "stderr",
          "text": [
            "100%|██████████| 1000/1000 [04:52<00:00,  3.41it/s]"
          ]
        },
        {
          "output_type": "stream",
          "name": "stdout",
          "text": [
            "| finished   | algo   |   seconds |   n_explored |   length_path |   count |\n",
            "|:-----------|:-------|----------:|-------------:|--------------:|--------:|\n",
            "| False      | A-star | 0.0569865 |      2424.54 |       nan     |     421 |\n",
            "| False      | BFS    | 0.0125182 |      2281.31 |       nan     |     421 |\n",
            "| False      | DFS    | 0.0131363 |      2281.31 |       nan     |     421 |\n",
            "| False      | IDS    | 0.0164046 |      2281.31 |       nan     |     421 |\n",
            "| False      | UCS    | 0.0382529 |      2281.31 |       nan     |     421 |\n",
            "| True       | A-star | 0.134035  |      6465.88 |       213.221 |     579 |\n",
            "| True       | BFS    | 0.0367238 |      7085.64 |       213.221 |     579 |\n",
            "| True       | DFS    | 0.0292772 |      5971.75 |      1685.41  |     579 |\n",
            "| True       | IDS    | 0.0350747 |      5971.75 |      1685.41  |     579 |\n",
            "| True       | UCS    | 0.117452  |      7094.15 |       213.221 |     579 |\n"
          ]
        },
        {
          "output_type": "stream",
          "name": "stderr",
          "text": [
            "\n",
            "/usr/local/lib/python3.7/dist-packages/ipykernel_launcher.py:5: FutureWarning: Indexing with multiple keys (implicitly converted to a tuple of keys) will be deprecated, use a list instead.\n",
            "  \"\"\"\n"
          ]
        }
      ]
    }
  ]
}