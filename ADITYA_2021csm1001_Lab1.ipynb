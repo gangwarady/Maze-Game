{
  "nbformat": 4,
  "nbformat_minor": 0,
  "metadata": {
    "colab": {
      "name": "ADITYA_2021csm1001_Lab1.ipynb",
      "provenance": [],
      "collapsed_sections": []
    },
    "kernelspec": {
      "name": "python3",
      "display_name": "Python 3"
    },
    "language_info": {
      "name": "python"
    }
  },
  "cells": [
    {
      "cell_type": "markdown",
      "source": [
        "# CS512 (AI) Lab Assignment - 1 \n",
        "\n",
        "###**Due on: 6th Feb 2022 2400 Hrs | Total Marks: 100**\n",
        "\n",
        "**Submission Instructions**:\n",
        "\n",
        "All submission is through google classroom submitting the colab (.ipynb file). In case you face any trouble with the submission, please contact the TAs:\n",
        "\n",
        "*   Armaan Garg, 2019CSZ0002@iitrpr.ac.in\n",
        "*   Shivam Kainth shivam.20csz0006@iitrpr.ac.in\n",
        "\n",
        "Your submission must be your original work. Do not indulge in any kind of plagiarism or copying. Abide by the honour and integrity code to do your assignment.\n",
        "\n",
        "\n",
        "\n",
        "**Penalty Policy**: Late submissions will attract penalties. There will be a penalty of 5% for every 24 Hr delay in the submission. E.g. for 1st 24 Hr delay the penalty will be 5%, for submission with a delay of >24 Hr and < 48 Hr, the penalty will be 10% and so on.\n",
        "\n",
        "All the plots and observations should be added to the colab notebook itself.\n",
        "\n",
        "**Naming Convention**:\n",
        "\n",
        "Name the colab file submission as follows: Name_rollnumber_Labnumber.ipynb\n",
        "E.g. if your name is ABC, roll number is 2019csx1234 and submission is for assignment1 then you should name the colab file as: ABC_2019csx1234_Lab1.ipynb\n"
      ],
      "metadata": {
        "id": "n1fXRmG192rR"
      }
    },
    {
      "cell_type": "markdown",
      "source": [
        "The purpose of this assignment is to exercise your basic understanding of intelligent agents and state space search, and to help you apply these concepts.\n",
        "In this assignment, you will be experimenting with different AI search techniques that has been discussed in class. You are provided with a starter code for this. The code consists of several segments, some of which you will need to read and understand to complete the assignment, and some of which you can ignore.\n"
      ],
      "metadata": {
        "id": "BhXaj0hb_CWz"
      }
    },
    {
      "cell_type": "markdown",
      "source": [
        "# Problem Statement 1 (60 marks)"
      ],
      "metadata": {
        "id": "0lKdiao__yxQ"
      }
    },
    {
      "cell_type": "markdown",
      "source": [
        "##Save the world from Cersei Lannister (in a maze game setup).##\n",
        "\n",
        "Story:\n",
        "Melisandre, also known as red woman, was born in the city of Melony (this city lies in the centre of the maze world), and is known to have supernatural powers. She has been known to be lived for 2000 years and used her sorcery to save the world from evil lannisters. It has been recently known that her immortality comes from the pendant she wears and few wise men say that the owner can only live for a few seconds without the magical pendant.\t\n",
        "But on a very dark day, evil Cersei Lannister stole her pendant and hidden herself into an unknown city of labyrinths. Now it’s our time to save the world and find Cersei as soon as possible and return the pendant to Melisandre and return balance to the world. Thanks to AI this could be done in a very fast and efficient manner. \n",
        "Agent Jon Snow (the AI master) is put up to the task of finding the pendant. Thanks to agent Snow we came to know the location of where cercei is hiding and we also have the maze world map. But it will take ages for a person to reach there but with agent snow’s AI mastership this could be done in mere seconds. \n",
        "_______________________________________\n",
        "\n",
        "The maze world is generated from empty grid and then adding walls of random length to random locations.\n",
        "\n",
        "The goal is to find a path from corner to corner. Possible moves are Up, Down, Left or Right. Distance or length is measured with manhattan distance which is the sum of vertical and horizontal lengths.\n",
        "\n",
        "Algorithms to compare to find a path :\n",
        "\n",
        "\n",
        "*   BFS: breadth first search (10 marks)\n",
        "*   DFS: depth first search  (10 marks)\n",
        "*   UCS: Uniform-Cost Search  (10 marks)\n",
        "*   IDS: Iterative Deepning Search (10 marks)\n",
        "*   A* (A-star) heuristic Search (20 marks)\n",
        "\n",
        "\n",
        "### Write code in Algorithm section below###\n",
        "\n",
        "There are two performance metrics:\n",
        "\n",
        "1.   Number of nodes explored\n",
        "2.   Time taken for execution\n",
        "\n",
        "###You need to plot graphs for both the metrics. Also, write your observations by pointing out the key differnces among the algorithms. (Use Graph plots & Observations section below to write your code)###"
      ],
      "metadata": {
        "id": "nmwQLEet_1zK"
      }
    },
    {
      "cell_type": "markdown",
      "source": [
        "# The maze"
      ],
      "metadata": {
        "id": "DfIALoWOV7oV"
      }
    },
    {
      "cell_type": "code",
      "source": [
        "import numpy as np\n",
        "\n",
        "\n",
        "def create_maze(size, n_walls, length_walls=0.3):\n",
        "    maze = np.ones((size, size), dtype=bool)\n",
        "\n",
        "    for i in range(n_walls):\n",
        "        row, col = np.random.randint(0, size - 1, 2)\n",
        "\n",
        "        wall = np.random.poisson(length_walls) * np.random.choice([-1, 1])\n",
        "\n",
        "        if np.random.choice([True, False]):\n",
        "            row = make_range(row, wall, size)\n",
        "        else:\n",
        "            col = make_range(col, wall, size)\n",
        "\n",
        "        maze[row, col] = False\n",
        "\n",
        "    maze[0, 0] = True\n",
        "    maze[size - 1, size - 1] = True\n",
        "    return maze\n",
        "\n",
        "\n",
        "def make_range(start, length, m):\n",
        "    d = np.clip(np.array([start + length, start]), 0, m - 1)\n",
        "    return list(range(d.min(), d.max() + 1))\n"
      ],
      "metadata": {
        "id": "Mhge1BnnVmp1"
      },
      "execution_count": null,
      "outputs": []
    },
    {
      "cell_type": "markdown",
      "source": [
        "# Algorithm section"
      ],
      "metadata": {
        "id": "hBCWnzRlWJI_"
      }
    },
    {
      "cell_type": "code",
      "source": [
        "\"\"\"\n",
        "Write a function for each algorithm in this section\n",
        "\"\"\"\n",
        "def bfs( maze, start, goal): #BFS\n",
        "  (x,y)=start\n",
        "  fin=False\n",
        "  count=0\n",
        "  dict = {}\n",
        "  queue=[]\n",
        "  explored=[]\n",
        "  visited={}\n",
        "  for i in range(SIZE):\n",
        "    for j in range(SIZE):\n",
        "      visited[(i,j)]=0\n",
        "  path=[]\n",
        "  queue.append((x,y))\n",
        "  visited[(x,y)]=1\n",
        "  explored.append((x,y))\n",
        "  while(queue):\n",
        "    (x,y)=queue.pop(0)\n",
        "    if((x,y)==goal):\n",
        "      fin=True\n",
        "      break\n",
        "    if(x+1<SIZE):\n",
        "      if(visited[(x+1,y)]!=1 and maze[(x+1,y)]==True):\n",
        "        dict[(x+1,y)]= (x,y)\n",
        "        visited[(x+1,y)]=1\n",
        "        explored.append((x+1,y))\n",
        "        queue.append((x+1,y))\n",
        "    if(y+1<SIZE):\n",
        "      if(visited[(x,y+1)]!=1 and maze[(x,y+1)]==True):\n",
        "        dict[(x,y+1)]= (x,y)\n",
        "        visited[(x,y+1)]=1\n",
        "        explored.append((x,y+1))\n",
        "        queue.append((x,y+1))\n",
        "    if(x-1>=0):\n",
        "      if(visited[(x-1,y)]!=1 and maze[(x-1,y)]==True):\n",
        "        dict[(x-1,y)]= (x,y)\n",
        "        visited[(x-1,y)]=1\n",
        "        explored.append((x-1,y))\n",
        "        queue.append((x-1,y))\n",
        "    if(y-1>=0):\n",
        "      if(visited[(x,y-1)]!=1 and maze[(x,y-1)]==True):\n",
        "        dict[(x,y-1)]= (x,y)\n",
        "        visited[(x,y-1)]=1\n",
        "        explored.append((x,y-1))\n",
        "        queue.append((x,y-1))\n",
        "    count=count+1\n",
        "\n",
        "  if(fin):\n",
        "    while((x,y)!=start):\n",
        "        path.append((x,y))\n",
        "        (x,y)=dict[x,y]\n",
        "    path.append(start)\n",
        "    \n",
        "\n",
        "  return fin, explored, path\n",
        "\n",
        "\n",
        "def dfs( maze, start, goal):  #DFS\n",
        "  (x,y)=start\n",
        "  stack=[]\n",
        "  visited={}\n",
        "  for i in range(SIZE):\n",
        "    for j in range(SIZE):\n",
        "      visited[(i,j)]=0\n",
        "  fin=False\n",
        "  dict = {}\n",
        "  path=[]\n",
        "  explored=[]\n",
        "  stack.append((x,y))\n",
        "  visited[(x,y)]=1\n",
        "  explored.append((x,y))\n",
        "  while(stack):\n",
        "    (x,y)=stack.pop()\n",
        "    if((x,y)==goal):\n",
        "      fin=True\n",
        "      break\n",
        "    if(x+1<SIZE):\n",
        "      if(visited[(x+1,y)]!=1 and maze[(x+1,y)]==True):\n",
        "        dict[(x+1,y)]= (x,y)\n",
        "        visited[(x+1,y)]=1\n",
        "        explored.append((x+1,y))\n",
        "        stack.append((x+1,y))\n",
        "    if(y+1<SIZE):\n",
        "      if(visited[(x,y+1)]!=1 and maze[(x,y+1)]==True):\n",
        "        dict[(x,y+1)]= (x,y)\n",
        "        visited[(x,y+1)]=1\n",
        "        explored.append((x,y+1))\n",
        "        stack.append((x,y+1))\n",
        "    if(x-1>=0):\n",
        "      if(visited[(x-1,y)]!=1 and maze[(x-1,y)]==True):\n",
        "        dict[(x-1,y)]= (x,y)\n",
        "        visited[(x-1,y)]=1\n",
        "        explored.append((x-1,y))\n",
        "        stack.append((x-1,y))\n",
        "    if(y-1>=0):\n",
        "      if(visited[(x,y-1)]!=1 and maze[(x,y-1)]==True):\n",
        "        dict[(x,y-1)]= (x,y)\n",
        "        visited[(x,y-1)]=1\n",
        "        explored.append((x,y-1))\n",
        "        stack.append((x,y-1))\n",
        "    \n",
        "  if(fin):\n",
        "    while((x,y)!=start):\n",
        "        path.append((x,y))\n",
        "        (x,y)=dict[x,y]\n",
        "    path.append(start)\n",
        "    \n",
        "\n",
        "  return fin, explored, path\n",
        "\n",
        "def ucs( maze, start, goal):  #UCS\n",
        "  (x,y)=start\n",
        "  cost={}\n",
        "  fin=False\n",
        "  dict = {}\n",
        "  path=[]\n",
        "  explored=[]\n",
        "  from queue import PriorityQueue\n",
        "  pq = PriorityQueue()\n",
        "  for i in range(SIZE):\n",
        "    for j in range(SIZE):\n",
        "      cost[(i,j)]=1000000\n",
        "\n",
        "  cost[(x,y)]=0\n",
        "  pq.put((cost[(x,y)],(x,y)))\n",
        "  explored.append((x,y))\n",
        "  while not pq.empty():\n",
        "    it=pq.get()\n",
        "    (x,y)=it[1]\n",
        "    if((x,y)==goal):\n",
        "      fin=True\n",
        "      break\n",
        "    if(x+1<SIZE):\n",
        "      if(maze[(x+1,y)]==True):\n",
        "        if(cost[(x+1,y)]>(cost[(x,y)]+1)):\n",
        "          cost[(x+1),y]=(cost[(x,y)]+1)\n",
        "          dict[(x+1,y)]= (x,y)\n",
        "          explored.append((x+1,y))\n",
        "          pq.put((cost[(x,y)]+1,(x+1,y)))\n",
        "        \n",
        "\n",
        "    if(y+1<SIZE):\n",
        "      if(maze[(x,y+1)]==True):\n",
        "        if(cost[(x,y+1)]>(cost[(x,y)]+1)):\n",
        "          cost[(x,y+1)]=(cost[(x,y)]+1)\n",
        "          dict[(x,y+1)]= (x,y)\n",
        "          explored.append((x,y+1))\n",
        "          pq.put((cost[(x,y)]+1,(x,y+1)))\n",
        "    \n",
        "\n",
        "    if(x-1>=0):\n",
        "      if(maze[(x-1,y)]==True):\n",
        "        if(cost[(x-1,y)]>(cost[(x,y)]+1)):\n",
        "          cost[(x-1,y)]=(cost[(x,y)]+1)\n",
        "          dict[(x-1,y)]= (x,y)\n",
        "          explored.append((x-1,y))\n",
        "          pq.put((cost[(x,y)]+1,(x-1,y)))\n",
        "        \n",
        "    if(y-1>=0):\n",
        "      if(maze[(x,y-1)]==True):\n",
        "        if(cost[(x,y-1)]>(cost[(x,y)]+1)):\n",
        "          cost[(x,y-1)]=(cost[(x,y)]+1)\n",
        "          dict[(x,y-1)]= (x,y)\n",
        "          explored.append((x,y-1))\n",
        "          pq.put((cost[(x,y)]+1,(x,y-1)))\n",
        "        \n",
        "\n",
        "  if(fin):\n",
        "    while((x,y)!=start):\n",
        "        path.append((x,y))\n",
        "        (x,y)=dict[x,y]\n",
        "    path.append(start)\n",
        "    \n",
        "\n",
        "  return fin, explored, path\n",
        "\n",
        "\n",
        "def dfs_ids(maze , start, goal, threshold):\n",
        "  depth=0\n",
        "  (x,y)=start\n",
        "  stack=[]\n",
        "  visited={}\n",
        "  explored=[]\n",
        "  fin=False\n",
        "  dict = {}\n",
        "  height = {}\n",
        "  path=[]\n",
        "  for i in range(SIZE):\n",
        "    for j in range(SIZE):\n",
        "      visited[(i,j)]=0\n",
        "  stack.append((x,y))\n",
        "  visited[(x,y)]=1\n",
        "  explored.append((x,y))\n",
        "  height[(x,y)]=0\n",
        "  while(stack):\n",
        "    depth=depth+1\n",
        "    (x,y)=stack.pop()\n",
        "    if((x,y)==goal):\n",
        "      fin=True\n",
        "      break\n",
        "    if(x+1<SIZE):\n",
        "      if(visited[(x+1,y)]!=1 and maze[(x+1,y)]==True and height[(x,y)]<threshold):\n",
        "        dict[(x+1,y)]= (x,y)\n",
        "        visited[(x+1,y)]=1\n",
        "        explored.append((x+1,y))\n",
        "        stack.append((x+1,y))\n",
        "        height[(x+1,y)]=height[(x,y)]+1\n",
        "    if(y+1<SIZE):\n",
        "      if(visited[(x,y+1)]!=1 and maze[(x,y+1)]==True and height[(x,y)]<threshold):\n",
        "        dict[(x,y+1)]= (x,y)\n",
        "        visited[(x,y+1)]=1\n",
        "        explored.append((x,y+1))\n",
        "        stack.append((x,y+1))\n",
        "        height[(x,y+1)]=height[(x,y)]+1\n",
        "    if(x-1>=0):\n",
        "      if(visited[(x-1,y)]!=1 and maze[(x-1,y)]==True and height[(x,y)]<threshold):\n",
        "        dict[(x-1,y)]= (x,y)\n",
        "        visited[(x-1,y)]=1\n",
        "        explored.append((x-1,y))\n",
        "        stack.append((x-1,y))\n",
        "        height[(x-1,y)]=height[(x,y)]+1\n",
        "    if(y-1>=0):\n",
        "      if(visited[(x,y-1)]!=1 and maze[(x,y-1)]==True and height[(x,y)]<threshold):\n",
        "        dict[(x,y-1)]= (x,y)\n",
        "        visited[(x,y-1)]=1\n",
        "        explored.append((x,y-1))\n",
        "        stack.append((x,y-1))\n",
        "        height[(x,y-1)]=height[(x,y)]+1\n",
        "    \n",
        "  if(fin):\n",
        "    while((x,y)!=start):\n",
        "        path.append((x,y))\n",
        "        (x,y)=dict[x,y]\n",
        "    path.append(start)\n",
        "    \n",
        "\n",
        "  return fin, explored, path\n",
        "\n",
        "\n",
        "def ids( maze, start, goal):   #IDS\n",
        "  explore=[]\n",
        "  fin=False\n",
        "  path=[]\n",
        "  \n",
        "\n",
        "  \n",
        "  total=SIZE**2\n",
        "  i=0\n",
        "  while(i<=total):\n",
        "    fin, explore, path=dfs_ids(maze , start, goal, i)\n",
        "    if(fin==True):\n",
        "      break\n",
        "    else:\n",
        "      i=i+total\n",
        "  \n",
        "  return fin, explore, path\n",
        "\n",
        "\n",
        "def heuristic(curr, goal):\n",
        "  n1,n2=curr\n",
        "  g1,g2=goal\n",
        "\n",
        "  res= abs(n1-n2) + abs(g1-g2)\n",
        "\n",
        "  return res\n",
        "\n",
        "\n",
        "\n",
        "def astar( maze, start, goal):  # A*\n",
        "  (x,y)=start\n",
        "  explored=[]\n",
        "  fin=False\n",
        "  dict = {}\n",
        "  path = []\n",
        "  gn={}\n",
        "  fn={}\n",
        "  for i in range(SIZE):\n",
        "    for j in range(SIZE):\n",
        "      gn[(i,j)]=float('inf')\n",
        "      fn[(i,j)]=float('inf')\n",
        "  gn[(x,y)]=0\n",
        "  fn[(x,y)]= heuristic((x,y), goal) + gn[(x,y)]\n",
        "  from queue import PriorityQueue\n",
        "  prq = PriorityQueue()\n",
        "  prq.put((fn[(x,y)],heuristic((x,y), goal), (x,y)))\n",
        "  explored.append((x,y))\n",
        "  while not prq.empty():\n",
        "    (x,y)=prq.get()[2]\n",
        "    if((x,y)==goal):\n",
        "      fin=True\n",
        "      break\n",
        "    if(x+1<SIZE):\n",
        "      if(maze[(x+1,y)]==True):\n",
        "        if(fn[(x+1,y)]>(heuristic((x+1,y), goal) + gn[(x,y)]+1)):\n",
        "          gn[(x+1,y)]=gn[(x,y)]+1\n",
        "          fn[(x+1,y)]=heuristic((x+1,y), goal) + gn[(x+1,y)]\n",
        "          dict[(x+1,y)]= (x,y)\n",
        "          explored.append((x+1,y))\n",
        "          prq.put((fn[(x+1,y)],heuristic((x+1,y), goal), (x+1,y)))\n",
        "        \n",
        "\n",
        "    if(y+1<SIZE):\n",
        "      if(maze[(x,y+1)]==True):\n",
        "        if(fn[(x,y+1)]>(heuristic((x,y+1), goal) + gn[(x,y)]+1)):\n",
        "          gn[(x,y+1)]=gn[(x,y)]+1\n",
        "          fn[(x,y+1)]=heuristic((x,y+1), goal) + gn[(x,y+1)]\n",
        "          dict[(x,y+1)]= (x,y)\n",
        "          explored.append((x,y+1))\n",
        "          prq.put((fn[(x,y+1)],heuristic((x,y+1), goal), (x,y+1)))\n",
        "    \n",
        "\n",
        "    if(x-1>=0):\n",
        "      if(maze[(x-1,y)]==True):\n",
        "        if(fn[(x-1,y)]>(heuristic((x-1,y), goal) + gn[(x,y)]+1)):\n",
        "          gn[(x-1,y)]=gn[(x,y)]+1\n",
        "          fn[(x-1,y)]=heuristic((x-1,y), goal) + gn[(x-1,y)]\n",
        "          dict[(x-1,y)]= (x,y)\n",
        "          explored.append((x-1,y))\n",
        "          prq.put((fn[(x-1,y)],heuristic((x-1,y), goal), (x-1,y)))\n",
        "        \n",
        "    if(y-1>=0):\n",
        "      if(maze[(x,y-1)]==True):\n",
        "        if(fn[(x,y-1)]>(heuristic((x,y-1), goal) + gn[(x,y)]+1)):\n",
        "          gn[(x,y-1)]=gn[(x,y)]+1\n",
        "          fn[(x,y-1)]=heuristic((x,y-1), goal) + gn[(x,y-1)]\n",
        "          dict[(x,y-1)]= (x,y)\n",
        "          explored.append((x,y-1))\n",
        "          prq.put((fn[(x,y-1)],heuristic((x,y-1), goal), (x,y-1)))\n",
        "        \n",
        "\n",
        "  if(fin):\n",
        "    while((x,y)!=start):\n",
        "        path.append((x,y))\n",
        "        (x,y)=dict[x,y]\n",
        "    path.append(start)\n",
        "    \n",
        "\n",
        "  return fin, explored, path\n",
        "\n",
        "\n",
        "\n",
        "\n",
        "\n"
      ],
      "metadata": {
        "id": "zjJLSiY3V1u4"
      },
      "execution_count": null,
      "outputs": []
    },
    {
      "cell_type": "markdown",
      "source": [
        "# Execution section"
      ],
      "metadata": {
        "id": "ebeRsG8jWMg8"
      }
    },
    {
      "cell_type": "code",
      "execution_count": null,
      "metadata": {
        "id": "itQRrX6yEHvG",
        "colab": {
          "base_uri": "https://localhost:8080/"
        },
        "outputId": "49f28832-b691-4cf6-d6f8-b03b922bdddb"
      },
      "outputs": [
        {
          "output_type": "stream",
          "name": "stderr",
          "text": [
            "100%|██████████| 1000/1000 [04:41<00:00,  3.55it/s]"
          ]
        },
        {
          "output_type": "stream",
          "name": "stdout",
          "text": [
            "| finished   | algo   |   seconds |   n_explored |   length_path |   count |\n",
            "|:-----------|:-------|----------:|-------------:|--------------:|--------:|\n",
            "| False      | A-star | 0.0608455 |      2898.16 |       nan     |     430 |\n",
            "| False      | BFS    | 0.0140552 |      2725.14 |       nan     |     430 |\n",
            "| False      | DFS    | 0.0142045 |      2725.14 |       nan     |     430 |\n",
            "| False      | IDS    | 0.017495  |      2725.14 |       nan     |     430 |\n",
            "| False      | UCS    | 0.0429792 |      2725.14 |       nan     |     430 |\n",
            "| True       | A-star | 0.126115  |      6483.81 |       212.393 |     570 |\n",
            "| True       | BFS    | 0.033923  |      7116.42 |       212.393 |     570 |\n",
            "| True       | DFS    | 0.0272912 |      5991.59 |      1710.79  |     570 |\n",
            "| True       | IDS    | 0.0332831 |      5991.59 |      1710.79  |     570 |\n",
            "| True       | UCS    | 0.109999  |      7124.66 |       212.393 |     570 |\n",
            "\n",
            "      round  finished  n_explored  length_path   seconds    algo\n",
            "0         0      True        6990       1519.0  0.031360     DFS\n",
            "1         0      True        6132        247.0  0.032057     BFS\n",
            "2         0      True        6154        247.0  0.092804     UCS\n",
            "3         0      True        6990       1519.0  0.038578     IDS\n",
            "4         0      True        6397        247.0  0.129593  A-star\n",
            "...     ...       ...         ...          ...       ...     ...\n",
            "4995    999     False          60          NaN  0.002584     DFS\n",
            "4996    999     False          60          NaN  0.002097     BFS\n",
            "4997    999     False          60          NaN  0.002688     UCS\n",
            "4998    999     False          60          NaN  0.003841     IDS\n",
            "4999    999     False          60          NaN  0.009163  A-star\n",
            "\n",
            "[5000 rows x 6 columns]\n"
          ]
        },
        {
          "output_type": "stream",
          "name": "stderr",
          "text": [
            "\n",
            "/usr/local/lib/python3.7/dist-packages/ipykernel_launcher.py:74: FutureWarning: Indexing with multiple keys (implicitly converted to a tuple of keys) will be deprecated, use a list instead.\n"
          ]
        }
      ],
      "source": [
        "from collections import namedtuple #Like the dictionary type objects, it contains keys and that are mapped \n",
        "#to some values. In this case we can access the elements using keys and indexes.\n",
        "\n",
        "from functools import partial # You can create partial functions in python by using the partial function from \n",
        "#the functools library. Partial functions allow one to derive a function with x parameters to a function \n",
        "#with fewer parameters and fixed values set for the more limited function.\n",
        "\n",
        "from timeit import default_timer as timer\n",
        "import matplotlib.animation as ani\n",
        "import matplotlib.pyplot as plt\n",
        "import numpy as np\n",
        "import pandas as pd\n",
        "\n",
        "import tabulate #Tabulate is an open-source python package/module which is used to print \n",
        "#tabular data in nicely formatted tables\n",
        "\n",
        "import tqdm\n",
        "import os\n",
        "\n",
        "np.random.seed(0)\n",
        "\n",
        "SIZE = 100\n",
        "START = (0, 0) \n",
        "GOAL = (SIZE - 1, SIZE - 1)\n",
        "OBSTACLE_COUNT = SIZE ** 2 // 30\n",
        "OBSTACLE_SIZE = 7\n",
        "\n",
        "ALGOS = [\n",
        "    (\"DFS\", partial(dfs, start=START, goal=GOAL)),\n",
        "    (\"BFS\", partial(bfs, start=START, goal=GOAL)),\n",
        "    (\"UCS\", partial(ucs, start=START, goal=GOAL)),\n",
        "    (\"IDS\", partial(ids, start=START, goal=GOAL)),\n",
        "    (\n",
        "        \"A-star\",\n",
        "        partial(astar, start=START, goal=GOAL),\n",
        "    ),\n",
        "]\n",
        "\n",
        "Result = namedtuple(\n",
        "    \"Result\", [\"round\", \"finished\", \"n_explored\", \"length_path\", \"seconds\", \"algo\"]\n",
        ")\n",
        "\n",
        "\n",
        "def simulate(n, max_good_mazes=float(\"inf\")):\n",
        "    results = []\n",
        "    good_mazes = []\n",
        "    for i in tqdm.tqdm(range(n), mininterval=1):\n",
        "        maze = create_maze(SIZE, OBSTACLE_COUNT, OBSTACLE_SIZE)\n",
        "        for algo_name, algo in ALGOS:\n",
        "            time_start = timer()\n",
        "            finished, explored_nodes, path = algo(maze)\n",
        "            time_end = timer()\n",
        "            r = Result(\n",
        "                round=i,\n",
        "                finished=finished,\n",
        "                n_explored=len(explored_nodes),\n",
        "                length_path=None if not finished else len(path),\n",
        "                seconds=time_end - time_start,\n",
        "                algo=algo_name,\n",
        "            )\n",
        "            results.append(r)\n",
        "            if finished and algo_name == ALGOS[0][0]:\n",
        "                good_mazes.append(maze)\n",
        "                if len(good_mazes) >= max_good_mazes:\n",
        "                    break\n",
        "\n",
        "    results_df = pd.DataFrame(results)\n",
        "    return results_df, good_mazes\n",
        "\n",
        "result_df, good_mazes = simulate(1000)\n",
        "\n",
        "\"\"\" for reference to print the results in a table format\"\"\"\n",
        "result_agg = result_df.groupby([\"finished\", \"algo\"])[\n",
        "    \"seconds\", \"n_explored\", \"length_path\"\n",
        " ].mean()\n",
        "\n",
        "result_agg[\"count\"] = result_df.groupby([\"finished\", \"algo\"]).size()\n",
        "result_agg = result_agg.reset_index()\n",
        "\n",
        "print(tabulate.tabulate(result_agg.values, result_agg.columns, tablefmt=\"pipe\"))\n",
        "print(\"\")\n",
        "print(result_df)\n",
        "\n",
        "\n"
      ]
    },
    {
      "cell_type": "markdown",
      "source": [
        "# Observations from the table:\n",
        "\n",
        "\n",
        "*   As we can see from the above table, **A-star, BFS, UCS** return the **least cost (optimal) solution.**\n",
        "*   **A-star** return the least cost solution because it uses h(n) and g(n)  (f(n) = h(n) + g(n)) to find the goal state.\n",
        "\n",
        "\n",
        "*   **BFS** tries to do level search i.e it searches all the states level-by-level until goal state is found. As in the maze problem all the operators have equal cost, so the BFS also returns us the least cost solution.\n",
        "*   For **UCS**, I have taken cost of every step to be 1, that is why it also returns us the least cost solution as then it acts similar to BFS.\n",
        "\n",
        "\n",
        "*   **DFS and IDS don't** necessarily return the **least least cost solution**.\n",
        "*   **DFS** uses the depth first search technique.\n",
        "\n",
        "\n",
        "*   **IDS** is similar to DFS, the only difference is searches only until a threshold value of depth. This threshold value keeps increasing by 1 until goal state is found.\n",
        "\n",
        "\n",
        "\n",
        "\n",
        "\n",
        "\n",
        "\n",
        "\n"
      ],
      "metadata": {
        "id": "Yf4N4Y61BLLz"
      }
    },
    {
      "cell_type": "markdown",
      "source": [
        "# Graph plots & Observations\n",
        "\n",
        "---\n",
        "\n",
        "Plot graphs related to the various parameters of algorithms for the various test cases given in the next section. \n",
        "\n",
        "1.   Plot one graph, which compares the number of nodes explored by every algorithm, while solving the problem.\n",
        "\n",
        "2.  Plot another graph, comparing the total time taken by each algorithm to complete the execution. \n",
        "\n",
        "## Libraries for reference\n",
        "https://seaborn.pydata.org/\n",
        "\n",
        "https://matplotlib.org/stable/api/_as_gen/matplotlib.pyplot.html\n",
        "\n",
        "https://matplotlib.org/stable/tutorials/introductory/pyplot.html\n",
        "\n",
        "\n",
        " \n"
      ],
      "metadata": {
        "id": "YnkNtQFDc410"
      }
    },
    {
      "cell_type": "code",
      "source": [
        "\"\"\" graph plot code and observations\"\"\"\n",
        "import matplotlib.pyplot as plt\n",
        "import seaborn as sns\n",
        "\n",
        "sns.barplot(x=\"algo\", y=\"n_explored\",data=result_df, palette=\"husl\",lw=3,ec=\"black\",hatch=\"..\")"
      ],
      "metadata": {
        "colab": {
          "base_uri": "https://localhost:8080/",
          "height": 296
        },
        "id": "mwltq1AgYqAy",
        "outputId": "1aa4a9bc-3402-4df1-da93-9008a9174f42"
      },
      "execution_count": null,
      "outputs": [
        {
          "output_type": "execute_result",
          "data": {
            "text/plain": [
              "<matplotlib.axes._subplots.AxesSubplot at 0x7f7b9879ad10>"
            ]
          },
          "metadata": {},
          "execution_count": 40
        },
        {
          "output_type": "display_data",
          "data": {
            "image/png": "[encoded data removed]",
            "text/plain": [
              "<Figure size 432x288 with 1 Axes>"
            ]
          },
          "metadata": {
            "needs_background": "light"
          }
        }
      ]
    },
    {
      "cell_type": "markdown",
      "source": [
        "**Observations:**\n",
        "\n",
        "\n",
        "*   As we can see from the graph above, **BFS and UCS** return the most number of nodes explored.\n",
        "*   **BFS** does level-by-level search so it explores all the nodes at one level and then only goes to the next level. So, the number of explored nodes increases significantly.\n",
        "\n",
        "\n",
        "*   In the case of **UCS**, the nodes explored depends upen the cost to reach the node. But in our example all the costs are equal so UCS in our example acts similar to BFS. That is it also does level by level search to find the goal state. So, **BFS and UCS return the most and similar explored nodes**.\n",
        "*   **DFS** does depth first search. So it tries to find the goal state as quickly as possible by not worrying about the cost of the search. DFS performs best with respect to space complexity.\n",
        "\n",
        "\n",
        "*   **IDS** helps in avoiding dfs to go in an infinite path by giving a threshold value to depth. IDS keeps increasing this threshold value by 1 until goal state is found. So, number of nodes explored in IDS is also similar to DFS\n",
        "*   Nodes explored in **A-star** depends upon h(n) and g(n) as f(n) helps us to decide which node to explore next. In our problem A-star returns less number of nodes explored than BFS and UCS but returns higher number of nodes explored than DFS and IDS.\n",
        "\n",
        "\n",
        "\n",
        "\n",
        "\n"
      ],
      "metadata": {
        "id": "Ik_izTXYLvG2"
      }
    },
    {
      "cell_type": "code",
      "source": [
        "\n",
        "sns.barplot(x=\"algo\", y=\"seconds\",data=result_df, palette=\"husl\",lw=3,ec=\"black\",hatch=\"..\")"
      ],
      "metadata": {
        "id": "gmlisxN_dSp9",
        "colab": {
          "base_uri": "https://localhost:8080/",
          "height": 296
        },
        "outputId": "27af39be-dc0a-4501-9989-6f03652a5069"
      },
      "execution_count": null,
      "outputs": [
        {
          "output_type": "execute_result",
          "data": {
            "text/plain": [
              "<matplotlib.axes._subplots.AxesSubplot at 0x7f7b98661850>"
            ]
          },
          "metadata": {},
          "execution_count": 41
        },
        {
          "output_type": "display_data",
          "data": {
            "image/png": "[encoded data removed]",
            "text/plain": [
              "<Figure size 432x288 with 1 Axes>"
            ]
          },
          "metadata": {
            "needs_background": "light"
          }
        }
      ]
    },
    {
      "cell_type": "markdown",
      "source": [
        "**Observations:**\n",
        "\n",
        "\n",
        "*   **DFS** find the goal state in least time as it does the depth first search. It tries to find the goal state as quickly as possible without worrying about the optimal cost.\n",
        "*   **BFS** takes more time than DFS as it does level by level search where it doesn't care about time to find the goal state. It tries to find the goal state in each level.\n",
        "\n",
        "\n",
        "*   **IDS** also takes more time than DFS as IDS does repetitive work as in it keeps changing the threshold value and keeps on finding the goal state from the initial state. So it does more work than DFS and hence takes more time.\n",
        "*  **UCS** takes more time than DFS, BFS and IDS as I have used priority queue in UCS as it find the next least cost state. So a lot of time is taken in inserting child states into the priority queue as priority queue is always sorted.\n",
        "\n",
        "\n",
        "*   **A-star** takes the most time to find the goal state due to 2 reasons: first that it also uses a priority queue to insert f(n) of child states as our next state is the least f(n) of child states and we know that priority queue is sorted by default. Second reason is that f(n) depends upon h(n) and g(n). So a wrong heuristic function h(n) can take us further away from the goal state which will result in furter delay to find the goal state.\n",
        "\n",
        "\n",
        "\n",
        "\n",
        "\n",
        "\n"
      ],
      "metadata": {
        "id": "j8pY4guCTUb1"
      }
    },
    {
      "cell_type": "markdown",
      "source": [
        "### Test Case 1:\n"
      ],
      "metadata": {
        "id": "EaSkBfP4LJbh"
      }
    },
    {
      "cell_type": "code",
      "source": [
        "START = (1, 1) \n",
        "GOAL = (SIZE - 1, SIZE - 1)\n",
        "result_df, good_mazes = simulate(1000)\n",
        "result_agg = result_df.groupby([\"finished\", \"algo\"])[\n",
        "    \"seconds\", \"n_explored\", \"length_path\"\n",
        " ].mean()\n",
        "\n",
        "result_agg[\"count\"] = result_df.groupby([\"finished\", \"algo\"]).size()\n",
        "result_agg = result_agg.reset_index()\n",
        "\n",
        "print(tabulate.tabulate(result_agg.values, result_agg.columns, tablefmt=\"pipe\"))\n"
      ],
      "metadata": {
        "id": "_ZlgQFqvLHMJ",
        "colab": {
          "base_uri": "https://localhost:8080/"
        },
        "outputId": "d1be8b3c-de2f-4f43-d1d2-8c376becc21f"
      },
      "execution_count": null,
      "outputs": [
        {
          "output_type": "stream",
          "name": "stderr",
          "text": [
            "100%|██████████| 1000/1000 [04:31<00:00,  3.68it/s]"
          ]
        },
        {
          "output_type": "stream",
          "name": "stdout",
          "text": [
            "| finished   | algo   |   seconds |   n_explored |   length_path |   count |\n",
            "|:-----------|:-------|----------:|-------------:|--------------:|--------:|\n",
            "| False      | A-star | 0.0545113 |      2544.48 |       nan     |     447 |\n",
            "| False      | BFS    | 0.0125716 |      2387.55 |       nan     |     447 |\n",
            "| False      | DFS    | 0.0128738 |      2387.55 |       nan     |     447 |\n",
            "| False      | IDS    | 0.0158832 |      2387.55 |       nan     |     447 |\n",
            "| False      | UCS    | 0.038111  |      2387.55 |       nan     |     447 |\n",
            "| True       | A-star | 0.125867  |      6492.28 |       212.573 |     553 |\n",
            "| True       | BFS    | 0.0337167 |      7119.02 |       212.573 |     553 |\n",
            "| True       | DFS    | 0.0270358 |      6026.42 |      1718.37  |     553 |\n",
            "| True       | IDS    | 0.0333984 |      6026.42 |      1718.37  |     553 |\n",
            "| True       | UCS    | 0.110589  |      7127.03 |       212.573 |     553 |\n"
          ]
        },
        {
          "output_type": "stream",
          "name": "stderr",
          "text": [
            "\n",
            "/usr/local/lib/python3.7/dist-packages/ipykernel_launcher.py:5: FutureWarning: Indexing with multiple keys (implicitly converted to a tuple of keys) will be deprecated, use a list instead.\n",
            "  \"\"\"\n"
          ]
        }
      ]
    },
    {
      "cell_type": "markdown",
      "source": [
        "### Test Case 2"
      ],
      "metadata": {
        "id": "mpkj2e58TUaN"
      }
    },
    {
      "cell_type": "code",
      "source": [
        "START = (2, 0) \n",
        "GOAL = (SIZE - 1, SIZE - 1)\n",
        "result_df, good_mazes = simulate(1000)\n",
        "result_agg = result_df.groupby([\"finished\", \"algo\"])[\n",
        "    \"seconds\", \"n_explored\", \"length_path\"\n",
        " ].mean()\n",
        "\n",
        "result_agg[\"count\"] = result_df.groupby([\"finished\", \"algo\"]).size()\n",
        "result_agg = result_agg.reset_index()\n",
        "\n",
        "print(tabulate.tabulate(result_agg.values, result_agg.columns, tablefmt=\"pipe\"))\n"
      ],
      "metadata": {
        "id": "my1GnnpjTUxl",
        "colab": {
          "base_uri": "https://localhost:8080/"
        },
        "outputId": "3ce610e4-b869-4ce7-a8fe-23606aabeb5f"
      },
      "execution_count": null,
      "outputs": [
        {
          "output_type": "stream",
          "name": "stderr",
          "text": [
            "100%|██████████| 1000/1000 [05:03<00:00,  3.30it/s]"
          ]
        },
        {
          "output_type": "stream",
          "name": "stdout",
          "text": [
            "| finished   | algo   |   seconds |   n_explored |   length_path |   count |\n",
            "|:-----------|:-------|----------:|-------------:|--------------:|--------:|\n",
            "| False      | A-star | 0.06111   |      2550.17 |       nan     |     420 |\n",
            "| False      | BFS    | 0.0141315 |      2399.55 |       nan     |     420 |\n",
            "| False      | DFS    | 0.0142449 |      2399.55 |       nan     |     420 |\n",
            "| False      | IDS    | 0.0174324 |      2399.55 |       nan     |     420 |\n",
            "| False      | UCS    | 0.042625  |      2399.55 |       nan     |     420 |\n",
            "| True       | A-star | 0.137076  |      6469.56 |       211.986 |     580 |\n",
            "| True       | BFS    | 0.0371215 |      7141.54 |       211.986 |     580 |\n",
            "| True       | DFS    | 0.0295919 |      6016.55 |      1742.84  |     580 |\n",
            "| True       | IDS    | 0.0364341 |      6016.55 |      1742.84  |     580 |\n",
            "| True       | UCS    | 0.119731  |      7149.51 |       211.986 |     580 |\n"
          ]
        },
        {
          "output_type": "stream",
          "name": "stderr",
          "text": [
            "\n",
            "/usr/local/lib/python3.7/dist-packages/ipykernel_launcher.py:5: FutureWarning: Indexing with multiple keys (implicitly converted to a tuple of keys) will be deprecated, use a list instead.\n",
            "  \"\"\"\n"
          ]
        }
      ]
    },
    {
      "cell_type": "markdown",
      "source": [
        "### Test Case 3"
      ],
      "metadata": {
        "id": "tZyD5cm7TUUF"
      }
    },
    {
      "cell_type": "code",
      "source": [
        "START = (1, 0) \n",
        "GOAL = (SIZE - 2, SIZE - 1)\n",
        "result_df, good_mazes = simulate(1000)\n",
        "result_agg = result_df.groupby([\"finished\", \"algo\"])[\n",
        "    \"seconds\", \"n_explored\", \"length_path\"\n",
        " ].mean()\n",
        "\n",
        "result_agg[\"count\"] = result_df.groupby([\"finished\", \"algo\"]).size()\n",
        "result_agg = result_agg.reset_index()\n",
        "\n",
        "print(tabulate.tabulate(result_agg.values, result_agg.columns, tablefmt=\"pipe\"))\n"
      ],
      "metadata": {
        "id": "ztOHMB3FTUtF",
        "colab": {
          "base_uri": "https://localhost:8080/"
        },
        "outputId": "2441665b-e304-4378-ec70-59a05c46a727"
      },
      "execution_count": null,
      "outputs": [
        {
          "output_type": "stream",
          "name": "stderr",
          "text": [
            "100%|██████████| 1000/1000 [04:45<00:00,  3.50it/s]"
          ]
        },
        {
          "output_type": "stream",
          "name": "stdout",
          "text": [
            "| finished   | algo   |   seconds |   n_explored |   length_path |   count |\n",
            "|:-----------|:-------|----------:|-------------:|--------------:|--------:|\n",
            "| False      | A-star | 0.0566552 |      2501.33 |       nan     |     436 |\n",
            "| False      | BFS    | 0.0132053 |      2345.64 |       nan     |     436 |\n",
            "| False      | DFS    | 0.0135594 |      2345.64 |       nan     |     436 |\n",
            "| False      | IDS    | 0.0166442 |      2345.64 |       nan     |     436 |\n",
            "| False      | UCS    | 0.0396152 |      2345.64 |       nan     |     436 |\n",
            "| True       | A-star | 0.129193  |      6404.31 |       212.791 |     564 |\n",
            "| True       | BFS    | 0.0353462 |      7068.43 |       212.791 |     564 |\n",
            "| True       | DFS    | 0.0287015 |      6038.74 |      1721.65  |     564 |\n",
            "| True       | IDS    | 0.0352066 |      6038.74 |      1721.65  |     564 |\n",
            "| True       | UCS    | 0.115519  |      7077.77 |       212.791 |     564 |\n"
          ]
        },
        {
          "output_type": "stream",
          "name": "stderr",
          "text": [
            "\n",
            "/usr/local/lib/python3.7/dist-packages/ipykernel_launcher.py:5: FutureWarning: Indexing with multiple keys (implicitly converted to a tuple of keys) will be deprecated, use a list instead.\n",
            "  \"\"\"\n"
          ]
        }
      ]
    },
    {
      "cell_type": "markdown",
      "source": [
        "### Test Case 4"
      ],
      "metadata": {
        "id": "GP_LgEreTUOs"
      }
    },
    {
      "cell_type": "code",
      "source": [
        "START = (3, 0) \n",
        "GOAL = (SIZE - 1, SIZE - 2)\n",
        "result_df, good_mazes = simulate(1000)\n",
        "result_agg = result_df.groupby([\"finished\", \"algo\"])[\n",
        "    \"seconds\", \"n_explored\", \"length_path\"\n",
        " ].mean()\n",
        "\n",
        "result_agg[\"count\"] = result_df.groupby([\"finished\", \"algo\"]).size()\n",
        "result_agg = result_agg.reset_index()\n",
        "\n",
        "print(tabulate.tabulate(result_agg.values, result_agg.columns, tablefmt=\"pipe\"))\n"
      ],
      "metadata": {
        "id": "8GK_f9ilTUoN",
        "colab": {
          "base_uri": "https://localhost:8080/"
        },
        "outputId": "31dea7cb-4d38-4cea-bf6f-d67bc5ecb31a"
      },
      "execution_count": null,
      "outputs": [
        {
          "output_type": "stream",
          "name": "stderr",
          "text": [
            "100%|██████████| 1000/1000 [04:45<00:00,  3.50it/s]"
          ]
        },
        {
          "output_type": "stream",
          "name": "stdout",
          "text": [
            "| finished   | algo   |   seconds |   n_explored |   length_path |   count |\n",
            "|:-----------|:-------|----------:|-------------:|--------------:|--------:|\n",
            "| False      | A-star | 0.0563928 |      2523.98 |       nan     |     436 |\n",
            "| False      | BFS    | 0.0129011 |      2377.68 |       nan     |     436 |\n",
            "| False      | DFS    | 0.0133671 |      2377.68 |       nan     |     436 |\n",
            "| False      | IDS    | 0.0165134 |      2377.68 |       nan     |     436 |\n",
            "| False      | UCS    | 0.0394647 |      2377.68 |       nan     |     436 |\n",
            "| True       | A-star | 0.133014  |      6481.51 |       212.113 |     564 |\n",
            "| True       | BFS    | 0.0350807 |      7115.84 |       212.113 |     564 |\n",
            "| True       | DFS    | 0.027992  |      5943.71 |      1707.44  |     564 |\n",
            "| True       | IDS    | 0.0341502 |      5943.71 |      1707.44  |     564 |\n",
            "| True       | UCS    | 0.11493   |      7124.31 |       212.113 |     564 |\n"
          ]
        },
        {
          "output_type": "stream",
          "name": "stderr",
          "text": [
            "\n",
            "/usr/local/lib/python3.7/dist-packages/ipykernel_launcher.py:5: FutureWarning: Indexing with multiple keys (implicitly converted to a tuple of keys) will be deprecated, use a list instead.\n",
            "  \"\"\"\n"
          ]
        }
      ]
    },
    {
      "cell_type": "markdown",
      "source": [
        "### Test Case 5"
      ],
      "metadata": {
        "id": "TaBC8wtRTUF8"
      }
    },
    {
      "cell_type": "code",
      "source": [
        "START = (1, 3) \n",
        "GOAL = (SIZE - 1, SIZE - 3)\n",
        "result_df, good_mazes = simulate(1000)\n",
        "result_agg = result_df.groupby([\"finished\", \"algo\"])[\n",
        "    \"seconds\", \"n_explored\", \"length_path\"\n",
        " ].mean()\n",
        "\n",
        "result_agg[\"count\"] = result_df.groupby([\"finished\", \"algo\"]).size()\n",
        "result_agg = result_agg.reset_index()\n",
        "\n",
        "print(tabulate.tabulate(result_agg.values, result_agg.columns, tablefmt=\"pipe\"))\n"
      ],
      "metadata": {
        "id": "fer1KlM_TWkW",
        "colab": {
          "base_uri": "https://localhost:8080/"
        },
        "outputId": "4c543f75-2f9d-4a3e-b82b-e0712f44f9ef"
      },
      "execution_count": null,
      "outputs": [
        {
          "output_type": "stream",
          "name": "stderr",
          "text": [
            "100%|██████████| 1000/1000 [04:52<00:00,  3.41it/s]"
          ]
        },
        {
          "output_type": "stream",
          "name": "stdout",
          "text": [
            "| finished   | algo   |   seconds |   n_explored |   length_path |   count |\n",
            "|:-----------|:-------|----------:|-------------:|--------------:|--------:|\n",
            "| False      | A-star | 0.0569865 |      2424.54 |       nan     |     421 |\n",
            "| False      | BFS    | 0.0125182 |      2281.31 |       nan     |     421 |\n",
            "| False      | DFS    | 0.0131363 |      2281.31 |       nan     |     421 |\n",
            "| False      | IDS    | 0.0164046 |      2281.31 |       nan     |     421 |\n",
            "| False      | UCS    | 0.0382529 |      2281.31 |       nan     |     421 |\n",
            "| True       | A-star | 0.134035  |      6465.88 |       213.221 |     579 |\n",
            "| True       | BFS    | 0.0367238 |      7085.64 |       213.221 |     579 |\n",
            "| True       | DFS    | 0.0292772 |      5971.75 |      1685.41  |     579 |\n",
            "| True       | IDS    | 0.0350747 |      5971.75 |      1685.41  |     579 |\n",
            "| True       | UCS    | 0.117452  |      7094.15 |       213.221 |     579 |\n"
          ]
        },
        {
          "output_type": "stream",
          "name": "stderr",
          "text": [
            "\n",
            "/usr/local/lib/python3.7/dist-packages/ipykernel_launcher.py:5: FutureWarning: Indexing with multiple keys (implicitly converted to a tuple of keys) will be deprecated, use a list instead.\n",
            "  \"\"\"\n"
          ]
        }
      ]
    },
    {
      "cell_type": "markdown",
      "source": [
        "# Problem Statement 2 (40 marks)\n",
        "## So many Queens, how to manage?\n",
        "\n",
        "During a gladiatorial contests at the roman empire, a fine king invited all his queens to witness the valour of the gladiators. However, the queens were not in likings of one-another and must not see eye-to-eye. Your job as the \"Minister of Strategies\" in King's office is to create a sitting arrangement for all queens, while keeping in mind that no two queens are in the \"LINE OF SIGHT\" of one another i.e. the queens must be avoided to be in the same row or column or diagonally. \n",
        "\n",
        " The \"minister of Strategies\" had recently enrolled in the Class of Artificial Intellignece CS 512 and decided to use A* algorithm to solve the problem.\n",
        "\n",
        "\n",
        "Heuristic to be used for this problem is \" Number of attacked queens\", where if any new queen is placed in \"LINE of ATTACK\" of other queen, the Heuristic is incremented by 1, else it is unchanged. \n",
        "\n",
        "**Can you propose a better heuristic for this problem? If yes, then compare the performance of A* with your proposed and the given heuristic. [15 marks]**\n",
        "\n",
        "The G(n) function can be defined as the number of queens which are correctly placed at the given time. \n",
        "For eg:\n",
        "if the state is  \n",
        "0 0 1 0\n",
        "\n",
        "1 0 0 0\n",
        "\n",
        "1 0 0 0\n",
        "\n",
        "0 0 0 1 \n",
        "\n",
        "then only one queen is correctly placed while, three queens are in ATTACK mode.\n",
        "#### Reference image\n",
        "![8queen.png](data:image/png;base64,iVBORw0KGgoAAAANSUhEUgAAAZUAAAGVCAMAAAABhZwJAAAABGdBTUEAALGPC/xhBQAAAAFzUkdCAK7OHOkAAAAJdnBBZwAABywAAAlIAJdquEgAAADbUExURf///w4ODjg4OBISEru7u1paWo2NjcHBwQAAAHZ2dioqKjIyMkRERGZmZomJic3Nzaenp7Ozs+/v7woKCpubm4GBgZmZmaurq1RUVExMTBgYGN3d3SAgIEBAQCYmJnJyciIiIhoaGgwMDCQkJAgICAYGBgICAlZWVhAQEDAwMEpKSqOjo0JCQigoKBwcHAQEBDY2NhQUFGRkZK+vr3BwcE5OTiwsLD4+PkZGRkhISF5eXnp6ejo6OpeXl7+/v4+Pj25ubi4uLlJSUoWFhWxsbN/f35+fn5GRkYODg6L66NkAACAASURBVHgB7Z0Ld9u2soXlxJKgyHL8qN9vx3GTtEnTnj5Oe3rY+1p33f//i+7eA4IPWRIxwywmbQdeSwApmEPNx40BIBIaBU9fnAdejsLtjjKFx7ky3YVXShvzcK+0MQ9BaWPnNnxQGrkOb7RGQlDamN+F7VGYjZQpbBVT3d847CptbIcXOhPFNASljdEsLJRGJuGZ1kgIShvTsZVKoUs2KjobhYHK40Jpw0ZFacRM5S+jFeUHsVFRGjFTUdO3tGBKIwatoAXTJRsVnY3CTEVN30JFacRERWnDRkVpxExFTd9CRWnEREVpw0ZFacRMRU3fQkVpxERFacNGRWnETEVN30JFacRERWnDRkVpxExFTd9CRWnEREVpw0ZFacRMRU3fQkVpxERFacNGZaWRGwz691e+Y6aipm+hojRioqK0YaPSMrI/nl/tFdM9Tr5xamH88eq4VcHeM17JeP3OL3VsP+h4ZW883oOLxqDxtigmpDIuigWyc+zeX4wnpQNdK+2rtHOrh1b270M4hEgwi8qpsf1DZEflZrkbm/wzU1kvi5XvuFZqcZyV4jgO4QzOonQOi0IatKvoPDOVzouqPU9qo6I08oXHFWmyEEj2z0M4hnu+YgM2LbD5GhrZBxxQcq2MZCZ/pbbX7rS1YPFwaLresNMFdTADJWqlmIc5s19DuGfYQXKtKPVoo1Ia+RX+RxFUJsgR5ud84zFmi/AAVlLTTCVCzX61tWDZh48VTS2Y0oaNSmmkFAky9L0omTtkCCj3fP9KkLHkWlmUl3G8SLtfbVRKI0fS6SIOBpArBBJk2ClfVkI5AOJaGTqupEiC+PIeANhDRiABo4AtwGHsl2RuwZSXmK0FUxoxtWBKG720gsbqHJ4nDmQYvjC+lJIBHDZrrpXBtYI7C6AOGUYeF9wIN0WBfjK1ch1bN9eKUBlSKwWG8/hKmlq5mWIQKY0Ws4kMIjnh4loZXivgcTUt7gSHDCrP4nTYpMAEMmUkUvE+2KB9sBhRpOmay6wkul2cnIRWJLq4VuReO96lp0u2aJ9ssL81ESr30vcKHwrOimEf2rZ7tl6SvA82aFwhlbFQCXtUB+L8R74eMcjIvIvHleHjCgYl4TpSmTDmI5bI65i4ZPrFtTJ8H0wiPNFg4CKv4XvJTq+RcbjifTBElqHjSlRG5PHkdexxJd5YDyqDxpXYeD3hEXccuVYqKtKQ57/06oNNi4c1RLh74lqpqAyrlVcbqMhXXnI65p5x/tUlNW2zk0ojptlJpY1eWimmm6hIpC+99Xd/1mtYrXy7XiuPAsS1MngfbFpsoBKfanStDD9eKX5br5U3rpUY7Icer0zjDPFqMj97XKmpDBtXflxNhHt5V6uP7Qlm6LH99F/rqbx3rXwurRRjTNmvTGe8cc+18hm0wtZy/2gcZ4sbbK6vFhxC8m1J5lGksjm2jSKVRkyjSKUN2ygyGYlOx1MRk8lkLOloMilvY41EpKaZSjp+Zm6jknnwVM1EJf1zZm6jUh48wSklkUzG3a6VMqww2teeyirZqKRDJw7SWKWdJSPXSoNK5ai8go1KeewlDsli3O1aaVCpPZVVslFJh04cXCuJwKp84PFKgpMVVx6eK1MIW8r0OmiNbIVHpY2tEJSf4/lDeK00chgetUYs3vpm1Og4e/EL8QCoyM0VVZOXUQjPVzUHm/YN3FRkfAap8sV22PGtl9xcUbd53SUDFSxa133cZg1TWG0eIKdsopJz4GYdyzCKVHIvrVTPQIUDA1UyUVFZQGUTFa0RK5Um2ZyyiYprZVMT33pvxtVAXSstn2zc4NKxyuRaUQrS1ILltCbNOlYqSviFqQXzuLJRhM03YwvWJJtTNlFRXsamaJ9z8s06rhXXSlMOG8ufVisvT3dOVpvjKLJ5kXaXXSu948r27Bg0DjAThT7daBQ3m3zkiwyVGRMVlQVUNrVgWiPWaN995bZr1HHl5Uv6ns+P4ScQtjmJhPwE2YL7L4hIkmsleSIn7zle2cGPa8AMMl4QL5lhfclyE9/0hcuLeBaulRwaqU6/uEJRBLRdxLCFQwLDHNkpd0MpzMpfEXGtJI/n5P20wpaL4iAdBhaIhUuxvnwtNEQ60pKVN/SqGmSPK+2o0b2V4soFwvsD2yg8ys9rAIFFtPF7+MjN94BV9slcK3RIbuqnldHF+/BfNIWmi2F/N4RTbm5JtBn9EV6ncO9xhX7JTf3iCnF8oClQoSiQMfgjoDBDfJGMRdcKvZCbemqFHCiS09h0IWPQR0N2yxMoJcOia4VeyE19tQIAjO+NHjK2gIphBtG+7IG5VnJ5xHp9tQIq5YCFIuHYHtKBZEgFcJpUfB4sG01frRxEABywHIzkbhnEd95zjjNAVs2KeVzJRiLXc8/vIgEArieV7Wpsjw1QIbDUBfO4ooECb/W8x+VSmilymKV5MLRqbMg4tCznWzyuqKCUVFSDblROo0jYgkouY9O14HCFAxYZ8W9zZMl2LCbvgyVP5OS9tXIK319IQJkzvDP4S7Y9goreVKfgcaVyRUahbx9MEBzHm2LjrOSWBJmwzVmwahCJan4/WAaOskpvrVAYpwzsCO2M+Wi15HWbzVmLin8XmY2lt1YY2rckvod/YqoY6Sd5nZ0iq4YrrpVsIqzYWysChJPDSwlRZYmKayWbTG+txMZrCUnarAaRrpVsIp9EKzGKJAxLeTWIJBXXSjaZ3loZlWuNLvGIm9Ug0rWSTeTTaIWTXutSfSquldoX3aX+WvllHZIQXtf2fbxS+6K71LsPNvp6PRVMxaTkWkmeyMn7ayWbin+/kgNE6vTXyjfrtfJTfRquldoX3aX+Wsmm4lrpxlHW6K8Vmb5frZdn9Wm4VmpfdJf6a+XgdjUS/uRxbd/7YLUvukv9tYI78k95F8Vy2tnFF/lVcq1Ursgo9NeKGLnYns0WO2U6nc1O5AGKhn3XSsMZncVPoZVOI6jgWsnxUqrzibSSDrc2d62sdc2KN1wrK5yyaRdWQeh+ZqFdo3FTyaYjN95zrTSckVP0tSlyvNSsE0L7Iu3eMj2t2n3Ydg2jVs5fKFN4fKZMl+FOaeNVuFfaeBaC0saL83CrNPI2HGqNhKC08eyS9056+uI8sDsKi21lCg9Yu1qVzsIPShu74VZlAZVx85MyLcI7pZFF+FlpA/ebKG1MzqiV+gahZiu9oRy2tPfAmhpwrRFLAz7s7xBnfiLziuztgNa5ZaPSedj2HRomKkobtkeblUbMVDKpp2o2Kum/M3MTlcxjp2o2Kum/M3MzFTV9PqinSRwYKI2YqCht2KgojZipZFJP1VwryRM5uZmKmr5rJV/6Zio5yBt1XCsNZ3QWzVRcK9lBMoR8lcSaZiqdvNsVPqFW9hbyk+Pt48uWKdqvOM6mXbZov+mIK94zU/kMWtn/ilfSMX5Ebi7Wj5fPwURl+SAd2zYqHQdd1pKZygrCm3Z9Aq3chPAKv9435pzVcVHcHIZzZM1kotI8QEbZRiXjwM0qZipq+uY+2P74fg6V7JPGuJhGKtPiHptXuMjGH66PymvNREX5QWxUlEbMVJpoM8o9tEIM+DVYeV78CvkDWjBYJCTkmJIMofxtPxOVjJNvVrFRaR4ho2ymoqZv1oo8igE1vIL7qQo8d0ltcHeSziSKxURF+UFsVJRGzFQyiDer9NTKIY619334yENCO4wnaNG4iWjjWomddMzkq+mbtbJ/FsK/aG6OFgs5REJtoEWDVIrpq3B4U/58r2uFV60i9dBKgcAuv0VyHx5pEVTwpcgUIpG95wJHTsVERfEhWNXWgimNmFuw4bRCdYhI0FRxiBLjCRsyauWrECAViobvZI+3y4pym5rqo9ioqEywn/kn+C4S6uDPjAMHR/XI0BWjZKgVrOHD9kySiUr81+xXG5Xsw8eKZipq+ua4IkMUdr6iSNgVpnQwXmF2JQJCAX8mKsoPYqOiNGKmoqZvoVIaQWN1hqLgkAHKPXpkcYs72X5JMlEpbeRmNiq5Ry/rmamo6VuolEaOOIycUiTIgIgDFpHMtMBbHL24VhAoB77HhQSO4yh+P82DEQ6G9sjw6lph72XQ8UoxZWu1iFQmjPIM8Ign4ZqjFU4gu1ZKKuqW0tKCJSMgcBWpLCKVRXFNOBJd0BNzrXwGrcj8sIQQRP1H4hgzyoMK51s4avG4EluwdBln5r3G9qKPIwnz7yOOK4YaUGE7JvMtchreBxuyDyZUxkIlYNSI9OpUsgLfS8ZBpJyOiYryg9h6xkoj5p5xpkZStX5aIZDLtwKi9XLKLUwge1z5HHElyqQFpN4QJq6VwccrMdDXHNolyNG18jm0EmN7G0baeuVaIRKkgcf2MixJFJbza9dKhDL02D7eOrGMo9z+1rVSU0mdq8y8Vx9sGoeOq7F861qpqah74JYZl2SkWLV8Twnp1LVSU8nUSKrWUysbluf90bVSU0mXcWZuo5IOXrxf3Xpxb/x+WGr62D6JIDO3USkPPi3erKfCh4B9vEK5DPz9SlF8u5bKd7xR3+eMSyqZGknVemkFfr+R71OesjmTW4xdK59FK+CydzSezzlHXKa7+dl4QugMKfLi97gkDeTmfbUS7ZSaqDeEiMcVKuUzxJWoBdBIvbJSIOTjWolQBp8HSxpJuYiFG66VkohrpeGIrKLcsdYUeWf5z/FdZNJIyv8WWnm3q0zh9UKZfg+/Km38EO6UNhaPQWlj9134qDRyFm61RnAzmzL9bl1L7/E7zV/qzirzJyZaO2TjsbFLefSyuuqDyH1PejuNk8wwh+P/exTu5soUHtM637n5rdrIdbjPPXiqh/soleku3KZ/zszn4VBpAzd7Zh67qnYb/jEK487w0+qR4pmF51lhrlHJ1/5uOKOz6OsZd7qoXcHXM277o3vrr7WesTz1Kb3NzBdTC9bq1nYbst2k2H3cVo1+E0GtQ63fsHztg+ciPa506zDV8HXykydycwyilcm1stSP6+r3mVqwroMuv2+isnyQrm1rC6a8wmw9Y48ruZrHbwh5XMl2Fit+7riyj2Esl31YkbwPtsIpa3eZW7BW03h89ZFPtcnzO/v4ajZuNquYqHhcyRZla2w/GfM2HnmACiLh022426rgHXIc0eyNx1y3g8lExeOKkkrUwRHcj8ek5bGEK9xWgs17XODIuHsPdzKcQzr8M1FxrSipRAXIk+yyHFpc6+mjPN0m0sGCHfK8ldxU4lqJ/sp9tcaVqABpsnBF3zyKKMhhH5vQzjU0ImGmXKzWtRI9lvdqpRKpc6VgrmIj63EhAyVqAytDMKzsv4nvsq6JiscVbQsWoe+HxxuIA4sO3DFDi8YFoBBuZKLsOvyarg0TFRxK8+dje17/TNfhDDS4Wh16W1NIhyJBQyZdMAk2Us21Et2Q+WptwdI1jHEjRQIqk5hx3IKGjBm6ZNgZ/1wryRM5uZVKgv5TXFMAVDBwwYqOXOWJ4xVqBe+VPTCPK8lfebmVSiLOxiqKBC0Zxy3XU64bLEsJoj0rleLjleSvvNxKJTFH77dc5Pxa1tnkFxaEg53HyFI1jyuVJ3IKViqJOQnsx8E9fhYAG9jiOAVDe2xdu1Y+y5wxqRxFKsdpHgwrb1Mr6CYzyMRkivZoGjXJ1DPWGGBd07deWiNWrdQi4EiRbDBwkQmYI8k+SHT5qa7m94NVvkjtzPrcTCXhB4/zuJbNWBawQ+/rEfuC7GNPLCbXSvJETm6mkkDz6cM9CShzmSsO42NCCQXbsUV1fZioVP+djG3OTS3Y5kM+fdfUgj09zOY9ZioJOVuthVA5jDjmR4QSiju8VMMV74Mlf2XlVioVa0ri6hQvIdzK63dxVQiuXQsqqZ5rJXkiJ7dSqZCLTARH++U7bla1XCu1KzJKZioJOQcna1Oq5GP72hM5JTOVRJyd4nXpQ6rk82C1J3JKZioJ+SYqr1Il10rtiZySmUqFfJ1QsP9ZVcnjSu2KjJKVSk18A5VvG7V8bF/1R2uvrCtZqdTAMV+/Lr2ra5l6xj4Ppvzevqa8YSnBRV3LREVxddGSj+1rFXDKZU2qh/YeV2qHZZSsLVitgu/XIMHuH+tarpXaF90lK5Ua+Aat/Hddy0TF44o5ruDxiNXpsJ4x9vFKtz6aNfprBbdKLq6erFM7Hx+l2/FFMK6Vut3oLlmpNMmKlePJZDGWdDSZRCDNOiYq3gdTtmBN3tH7zT2lOxu7TFQ8riipNHUgzm/uKL3Z3GWi4lpRUmnI4KkwcMex/DUqmai4VpRUmjpwrWx03md6hviJMFwrTUzDrXn0ekuZQniuTA9Ba+QwPCptPA9B+Tm2XocHpZGt8Kg1YvEWVm3z9MV54JtRmDUlmlMe+ne9Gh2NTUXLcE2eZd900KX3TFPZS8fo3DSvnNvsIGSUTbfDKfvSvk5+J+6lCjYqSwfp2nStZOijeanbqCiNmKgobdhaMKURcwvWdd0uvW+jsnSQrk0Tla6DLr1vo7J0kK5NMxU1/T6/gZdpzEQl89hJ+DYqSiNmKl24l953rSw5ZOOmmYqavmslya07N1PZyPrpm66Vpz5Zv8dMxbWyNNw+2Vm8XNpVbuJpBrW3sO6kj+3XX7bL7zyN9sezC7j/BJM2bw5QOJ5tL8FpPmOyfLjV264V5WXcoLJNGqNT4ACHGafSyvyE+19WynGt0B+KxJ+60KWKysUlllcZjS5I43Q02mUOTMx2RqMD3Cu0KE/EtaIgwqqgYtWKPIAF9xMD/E8M7GaWVARS2ZS5VvRUdFKpb3/eof8hDtB5zcYKTRjDClsytGCpQeP5uFboBUXqoRWG959pah7eMQMH0UZsudiwbZESkmsl+iH7tUdcYa/rf2loJ1zGjBrB2uCxS/tLeCadAexyrdA/itRDKxSJxPPbOP2GuMIRBgKKDDS26vGGa0VBhFX7aCWJBG0Vmy5kxIGGjBkkgw5aTK6V5InMvJdWEOcZ5oEDnS/2xdAjBir2k6sow/NwrdALitRLK5BF2RdGSwZxhDksl3DQnjVHkcqOno/treMVCSGUReTALlmIg0oOImWjvDxcKwqdsGovrVAemFmJOGSAciDTYaDCpYmqU/G4Urkir9ArrpDKtjRdaK2EyrZkoIKQwyATk2sleSIz76UVtl2zSOWEUZ6D+lNmo9GHJSoeVzKBSLVeWiGVeaQyw+AFaTbClCWosFWTUYsYca1okKBuP62QxAXbMTRXfA0zmasMMoHcouJa0YDppxW2WscSUC4jjh1BFKQ5qwaRAObfRWqg9NQKJ/MXQiX8RKmE818kE0TlND5Ox/tgKibSgtnHK9LhepBIIjCql7csVYNI14oSSk+tyFdbFYulQn0qrpXaF1mlfnElRpElGmmztu9xpfZFVqlfH2wTFc6Jlcm1kjyRmffTSuwOJ3G08zYVZfAyz06qe+CWO1qVRhpzT/lUlDaqe1xooQ2itfV1fQauldoXWaWeWtmwxl2bimslC0dZqV9cGeGp5XXpx/o0XCu1L7JKPbXyfh2TEP5R2/c+WO2LrFJPrfy8nso3tX3XSu2LrFJPrWDCfl1qdG5cK1ks6ko9tSK/nL2Sy215hx5NuVZqh2eVempldLAr36ssgdk6rSeMIxXvg2XhKCv11IocZft4NttJaTGbxQcoGmfhWmk4I6fYVys5NnzOOMtLjUqfQiuNw60uulZW+2XtXtfKWtesfmOg5dHMz3qtPutVe10rq7yyYd+XrJXLZ8oUHl8o03m4Vdp4Gw6VNl7gl3uU6TLcKY28CvdKG89CUNp4cY67/5Z62775BXhgdxTOJsoUDreVaRHeKW0sws9KG/hqUGljchZ+UBrZDbdaI7jvVZkW1Er9A8OZXwGZ1jPOPHaq1vp6aUNoaLxlCauN+arGkdYXB+qEkIpyQsDyqziPzd+kyLFnopJz4GYd0/IyzQPklC1fkQ6mFV/7e70Cl96ZSQuWQ7xZx9aCNY/QXXatpLY8NzdRca0sKWL9pmtlvW9WvvOZ1snP0YtrJcdLqY412ne38u0aJirKxwU8riSqubmJymeMK0c3rZ8lqz+mqWdc/3teybWyUpDXIdzvrXzHRKXdbnRvWankMa9r/Um0cnweDo8KLB6FhPmL/Vfh8Kb+ECyZqLQP0b1lpdLNu13DRGXlxdo+bnPLFFdKG0fzjzcoXoHGOX/RmFSmxRmye+z+av5xXFY0UWmeZU7ZSqWbd7uGicpwcWWPGPCzyXL/Cc78VQgPe0Xxkbuxyd8lL7/sMlFp+6J7y0olh3izjolKeXk2j7OpbNJKPGASxxjun8MsKP2AjI8xviqlM481TVQ2nfWq96xUunm3a5ioDKeVY7ifWilehO/Y+QIlmRa/Dt9jc9+1ksbHvJlk1XW0fp9JK6WNm8fwgj8SB7Gw73UUwhkNXUM5yH7D5n407FoZTivFdByu4X5SoWSQAUdRIONJ8M0ymaikf87NrS3Y+it29TumFgxu0vz10UoSCXCwt4XsDhkasjtqBZJJJ2Kikv45N7dSyaWe6pmoDKmVoxA4MkEn7Cpm7HvdINoACmL/WfogJirpn3NzK5Vc6qmeiQocovnrpRXI4grGQOVcxIH4IpIp4VRfvpqoaD4F61qp5FJP9UxUhtQK9HCIk+WABVnZJZOtafFTNVrxsf2gfTAB8ZVoBeF+n1RupjJ6BCN0jCfpcnetDKmV4lyGKJiWxNWA5oxb0A+WKJoe45UdM0kmKumfc3NrC5Yundzc1IKpogp7TM/SYCc3l2DOzyBt1zVbdOJA6GeAl2zCDlm9MpSJSq6XUj0rlVzqqZ6JyqBa4cTkvlCZCwcMWIgDKiljTfwoJirJC7m5lUqimpubqAyqFSI4EiqPEcedzCCHCYMMR5jxz0Ql/XNubqWSSz3VM1EZVCukciZUwh7VgVYLoQZaOcKLDPTls5ioJC/k5lYqudRTPROV6gJNR9mc94srjPDnEt/D4gNxhH/J65hfsvxUnYqJyubzfvqulUou9VTPRGVQrUi/S1azFRjVy8fvUazvqzZRSV7Iza1UnvLdvMdEpbpANx87vdtPKzJGqVgsFerpaxOVdIa5uZVKLvVUz0RlUK3EkLJEI21WwxV0BP7e9+QPO7afFs8TghX5pJKtiUquRlI910pUM2T5agWNtCtJ3ufBhtVKMf3PhGBFni5iTiMbWrD63/NKrpVKK9+uoFHu4mxymUxU0j/n5lYqeczrWqZoXzXm9XE2lXr1wabFBipbtVkTlfrf80pWKrnUUz0TlWH7YD+u18p5+hgeV4aNK9Pi/9ZTeV9f4q6VYbXCW/LWpO9dK+V3I8PeD4Y7Wf5YgwS737lWairDaqU45lcsK9J187Z8UwtWSy2vZI329cWTVzJF+2H7YLgG9ifjq/l9A8x8Pr5pP8diopLno7qWlUoe87qWicrAWsFFkNLeZHIs5XpX+ZaJSjpsbm6lUnPNK5moDK6VyiDcFz9XtSd9TBOV9M+5uZVKLvVUz0TlyYWajrY6t40i47HEVG2P7pNU7yptmqiU/5udWankUk/1TFSeXKjpaKtzG5V4LDGVBFIi4jtPTsFEZfX5rt9rpZKNvaxoovLkQt1s1UYlHrMEkQwIEG48OQUTlXTY3NxKZT3n1e+YqDy5UFcfO+21UYn/LaZqZQgPvvPkFExU0hnm5kYqjc6jF78MD/x7FG7TytW5eXicK9Od2sg8HCpt4A6j3A+Q6t2GO6WR63Cf/jk3x61OynSHHwpp/GRu5r2jYetJW9AhZ1NToTViaSrqOys6PkF5Mn0a1jwLqPV3/10vLPGnSzYqOhv4ihRr6dU/ZPw31Er2BRzFYqOiNGKmoqZv+IJcaQN3G2VeVVU1TmXrko2KzoZrZaG8jG1UlEZcK8rL2EZFacRMRU3f0oIpjZhaMKUNGxWlETMVNX0LFaURExWlDRsVpREzFTV9CxWlERMVpQ0bFaURMxU1/dVUXl6Gy5dVl6hZGGjpc++DNZ1+snO6jW0+h3WK/GRn56T59mhEKspLzLVi1srxjDT40/BbF/FXr29HowvOCVIzJ7P0o36ulfZV2r3VYx5sBvdDFcwwrTA6RbYYjXa5iSkG7i5nGlwr3RzaNUBFmarZSbp/ZzTiWgQUxwEmk/EzpC+5CVjyzFy05Vpp+7x7q4dW6H4GEqjif2hoTkaj0ddRI6SyxW2PK6nNiN7Iee2hFbRVjwwgCCwSQUoKgETDJ6BSBhbXSg6JZp0eWhn9OwT+cjKoMIAcAAOPjNuCEfsZ9dNPkHtcoV80qYdWGELYBwYVNl3si1E66CGza4Zwk37s2rUCf6hSH62MpNNFHAwgbLKIo8xO6yGHa0WFhD6098EI4LLEgTaLXWGM+tkHI5ytcItXSa6V5IncvJdW0M9Cm0Uc4MAM8YUdZWyVzVpFxcf2uURYr5dWQAXqKHGwK4yOcikZZOw1S3KtJE/k5r20El1PDiDAeTBEfcKBZLBVjuypG58Hy+UR6/XSCnlEdSC+oMyovyVU2E1uUVFOINRdhdyP49/bJ08xhpxwgAInkgMyDFPIo4wusaJrJTksN++lFQ5RZnHGa5tlBH/JZkKKPTFJHleSJ3LzXnGFveC3kcouhyvofbFRQ3j5gNc0iPS4UrXlCirKJr+aM4YJIrhgfA8zwRF2T7mxIxPH1Sm4VipXZBZ6aUWoHP9OEM8v+Rou5ZHS3/kly211Bh5XKldkFnrFFWm8+Ms0y+kBOzg3FpNrJXkiN++nFWm8lpGU29Ug0uPKwHElBpPVWOpTca3kaiTV66eVfCo+D5Y8npP3iyscLK5L1XBFWjBlR8/H9srLuNkzjkPH1VzaVJRGTFSUNv6y907KuGQ1lHoQ6VqpQ2xO84U6/eKKDFjWUKlPwMcrtS/ySv3iSj4Vjyt5PGIt14rKW/Wv8GQGsc9yT/7jmuYrhO/qT+vjldoXeaWeWjmJ019P2TQfmvC4kseiqg8yVgAABOpJREFUrtUzrvDW+yfTLls7crN+ZcS1Urkis9BTK9HKwfb2ySymk+16nJJOwbWSPJGb99ZKhiHXSoaTWlU+iVZaR3y64Vp56pPNe1wrm/3Tfld+dVc19DL3jDN73unRxuY8WPuc1225VtZ5Zt1+18o6z6zab9TKw3Nlwp11yvQ6aI1shUelDdzqp/wczx/Ca6WRw/CoNWLxFlZt8/TFeeCbUeP3EzNjkm010MyDl9VsX2TobNh+QUppo7B87YNV28bK0F0YqGDROp0VExWdCf9dr4CFuFTJREVlAZVtXUOllS9YK8P8VpFrZVUncO0+PJLgWlnrneU3ZnjwbZC44lpZdv2G7UhF2VBaor1rZQOF5bdcK8se6djGRJA2eFmjvWulg0X99kBfMHhcqV1elQ5mO2tux3KtVE7KLFimAZcWXjzYPebTZnxqk1gOdnerh8/iSbhWMmFU1ULQNvn1KPJAvqO+eIOnA8GB82JvAOUtZhYFy3aC41qp3J1Z6KEV3JG+hRUz+LgZF8ngMgDzuMqMLGiyFbaGXSDL4wqZ84F/PNGUqLz8LrwGJHmYFm3cKd6tF5PTCtL7YMreZNWCwe18+u/gTQjXpLQjzwIeXMcGTW6T4u64ZIbSiJWKmv7zeIr5rwP9DrH2g1RU6HeGd6zHICv4bsnCTKM/4qPmfA4Ka5YyeVyJfsh/7RFXDn6IVzSerZEuMTDQLnCgIWP0/6EM994Hoz80qU8fDDjYC0PGx5j5iA1XXISEuBfxReBIBR/bww2K1EMrlANFAipY84eZ4EAngFQgmXQarpXkidy8j1ZABV1hwYG2in0xdIW56g+pXLaoaINX/c+5H8TnjJOnMERBm1Uuu8TwDumUkgGcanUG10pyWG7eSysIIVAHcZQDFHS6SjhA1aTiWskFIvV6xRVMfZUckLGjDBCnUTLIpGNGI64VFRJU7qUV6ALDd6oD8YVDfUR9tGrkga0mFdeKCkwvrTDAvxQq6G+hzBjN15lEl3IWzLUSnqmQ9NUKI/tM2qzwMq4IcMFd2Ef9sCcmCS2YayU5IyvvpRUi2JGAEo4FR9hmhwz72I6lQaTHlWG1Is3VAcN8mMnUcTimSMKOrFhaXRWulcoVmYVeWhEqJ0Ll8hlxhGeXfN0RxVRn4H2wyhWZhV59MGmonj0niFZ6/hab1XCFLZjHlUwesVo/rYhMWkDqjRYV5dcrhXXGRU3/L/f9CrDKutc1iFapGq64VgzRXnsZV996gYrE9haLeqNFRWvEtaJ8SKZJJXa8ahLNUjWIdK0MrJU4SGmyqMvVINLHKwYq2gDZ1MomKtUg0rVioKJt8ptU4uRXrY9mqe4K+nil9kVeqd94JZuKVpDWaK+9xAxPq/4Jnl9pimOpXF8VrpXaF3kl10qen6paf4bnIn9bEki9+Vv1ObwPZoj22ia/Fe1H2wuZj6xpSOlyUfeL5VsvrRGPK8oI2aYCRVxs784WOyktZrvbvFmvkTyuNJyRVewZV7Js+JxxlpsalfrNGTcOtKHoWtngnJVvuVZWumX9zj9DH2z92Tfeca00nJFV/GtpZT5WpvBQLkScne2EZ0obZ+Ey++hlxRCUNsbz8E5pZBHOtUZwe4Yy7eBOp6X+uW9+AR7YHu0qSc5mX3+t/ZfFP7X/MfvlP7T/Mshp/XOA05odj/4f5x2ug9AfCNcAAAAASUVORK5CYII=)"
      ],
      "metadata": {
        "id": "Ecuj940rVmvA"
      }
    },
    {
      "cell_type": "markdown",
      "source": [
        "\n",
        "To solve this problem correctly. define the Heuristic function correctly, Apply A* agorithm to it and print the following information for each trial. Number of nodes explored, Optimal path cost, Total time taken for execution. [25 marks]"
      ],
      "metadata": {
        "id": "s827GCL0suVP"
      }
    },
    {
      "cell_type": "markdown",
      "source": [
        "Consider in total, 5 trials,\n",
        "\n",
        " \n",
        "\n",
        "---\n",
        "\n",
        "\n",
        "\n",
        "1.   you have 4 queens in a 4x4 seating space.\n",
        "2.   you have 5 queens in a 5x5 seating space.\n",
        "3.   you have 6 queens in a 6x6 seating space.\n",
        "4.  you have 7 queens in a 7x7 seating space.\n",
        "5.  you have 8 queens in a 8x8 seating space.\n",
        "5.  you have 9 queens in a 9x9 seating space.\n",
        "5.  you have 10 queens in a 10x10 seating space.\n",
        "\n",
        "----\n"
      ],
      "metadata": {
        "id": "3Dgf3EzdtZAl"
      }
    },
    {
      "cell_type": "markdown",
      "source": [
        "In the end, plot a graph with all five trials in X-axis and following metrices in Y axis,\n",
        " * The number of nodes explored \n",
        " * Optimnal path cost \n",
        " * Total time taken by A* algorithm "
      ],
      "metadata": {
        "id": "83JzXB1zt8cb"
      }
    },
    {
      "cell_type": "markdown",
      "source": [
        "Define heuristics"
      ],
      "metadata": {
        "id": "ijHLUVxavMcZ"
      }
    },
    {
      "cell_type": "code",
      "source": [
        "def queen_heuristic(seqs,size):\n",
        "  state=[]\n",
        "  attack_queens=0\n",
        "  dictt={}\n",
        "  for i in range(1, size+1):\n",
        "    if seqs[i-1] != 0: \n",
        "      state.append((seqs[i-1],i-1))\n",
        "  for (x,y) in state:\n",
        "    for (i,j) in state:\n",
        "      if((x,y)!=(i,j)):\n",
        "        if(x==i or y==j or abs(x-i)==abs(y-j)):\n",
        "          dictt[(i,j)]=1\n",
        "          dictt[(x,y)]=1\n",
        "  \n",
        "  for val in dictt.values():\n",
        "    if(val==1):\n",
        "      attack_queens=attack_queens+1\n",
        "\n",
        "  return attack_queens\n",
        "\n",
        "\n",
        "\n",
        "  "
      ],
      "metadata": {
        "id": "14iZ0N2-sd3M"
      },
      "execution_count": null,
      "outputs": []
    },
    {
      "cell_type": "markdown",
      "source": [
        "# New Heusristic:\n",
        "\n",
        "\n",
        "*   **New heuristic** is defined as the **total number of attacks** queens are making to each other.\n",
        "\n",
        "\n"
      ],
      "metadata": {
        "id": "DHoP6W88r8YC"
      }
    },
    {
      "cell_type": "code",
      "source": [
        "def new_heuristic(seqs,size): # defining a new heuristics \n",
        "  state=[]\n",
        "  total_attacks=0\n",
        "  dictt={}\n",
        "  for i in range(1, size+1):\n",
        "    if seqs[i-1] != 0: \n",
        "      state.append((seqs[i-1],i-1))\n",
        "  for (x,y) in state:\n",
        "    for (i,j) in state:\n",
        "      if((x,y)!=(i,j)):\n",
        "        if(x==i or y==j or abs(x-i)==abs(y-j)):\n",
        "          total_attacks = total_attacks + 1\n",
        "  \n",
        "  \n",
        "\n",
        "  return total_attacks\n"
      ],
      "metadata": {
        "id": "316PU2nFKDrM"
      },
      "execution_count": null,
      "outputs": []
    },
    {
      "cell_type": "markdown",
      "source": [
        "Your solution using A*"
      ],
      "metadata": {
        "id": "_G7Q1rK8G_sk"
      }
    },
    {
      "cell_type": "code",
      "source": [
        "# Your code goes here\n",
        "\n",
        "\n",
        "\n",
        "\n",
        "\n",
        "\n",
        "def queenastar(size):  #calls original heuristic\n",
        "  \n",
        "  nodes_explored=1\n",
        "  cost=0\n",
        "  fin = False \n",
        "  from queue import PriorityQueue\n",
        "  p_q = PriorityQueue()\n",
        "  p_q.put((size,size,0,[0]*size))\n",
        "  \n",
        "  solution=[]\n",
        "\n",
        "  while p_q: \n",
        "    state = p_q.get()  \n",
        "    if(cost<=(state[2]*(state[2]-1))/2):\n",
        "      cost=cost+ state[2]\n",
        "    q_list = state[3]\n",
        "    if(state[1] == 0 and state[2] == size): \n",
        "        fin = True \n",
        "        solution = state[3] \n",
        "        break\n",
        "    rows = list(range(1, size+1))  \n",
        "\n",
        "    if q_list.count(0) != 0: \n",
        "        for i in range(size): \n",
        "          col = q_list.index(0)\n",
        "          nodes_explored=nodes_explored+1\n",
        "          random.seed(27)\n",
        "          ro = random.choice(rows)  \n",
        "          rows.remove(ro)  \n",
        "          cpy = list(q_list)\n",
        "          cpy[col] = ro \n",
        "          val = size - cpy.count(0)\n",
        "          \n",
        "          h = queen_heuristic(cpy,size)\n",
        "          #val= val-h\n",
        "          fn = val + h\n",
        "          p_q.put((fn,h,val ,cpy))  \n",
        "          \n",
        "\n",
        "  if(fin==True):\n",
        "    \n",
        "    print('Goal found')\n",
        "  else:\n",
        "    print('Goal cannot be found')\n",
        "\n",
        "  \n",
        "  return nodes_explored, cost, solution\n",
        "\n",
        "\n",
        "def myqueenastar(size):  #calls new heuristic\n",
        "  \n",
        "  nodes_explored=1\n",
        "  cost=0\n",
        "  fin = False \n",
        "  from queue import PriorityQueue\n",
        "  p_q = PriorityQueue()\n",
        "  p_q.put((size,size,0,[0]*size))\n",
        "  \n",
        "  solution=[]\n",
        "\n",
        "  while p_q: \n",
        "    state = p_q.get()  \n",
        "    if(cost<=(state[2]*(state[2]-1))/2):\n",
        "      cost=cost+ state[2]\n",
        "    q_list = state[3]\n",
        "    if(state[1] == 0 and state[2] == size): \n",
        "        fin = True \n",
        "        solution = state[3] \n",
        "        break\n",
        "    rows = list(range(1, size+1))  \n",
        "\n",
        "    if q_list.count(0) != 0: \n",
        "        for i in range(size): \n",
        "          col = q_list.index(0)\n",
        "          nodes_explored=nodes_explored+1\n",
        "          random.seed(27)\n",
        "          ro = random.choice(rows)  \n",
        "          rows.remove(ro)  \n",
        "          cpy = list(q_list)\n",
        "          cpy[col] = ro \n",
        "          val = size - cpy.count(0)\n",
        "          h = new_heuristic(cpy,size)      \n",
        "          #val= val-h\n",
        "          fn = val + h\n",
        "          p_q.put((fn,h,val ,cpy))  \n",
        "         \n",
        "\n",
        "  if(fin==True):\n",
        "    \n",
        "    print('Goal found')\n",
        "    \n",
        "  else:\n",
        "    print('Goal cannot be found')\n",
        "\n",
        "  \n",
        "  return nodes_explored, cost, solution"
      ],
      "metadata": {
        "id": "qZGBv-FvHETp"
      },
      "execution_count": null,
      "outputs": []
    },
    {
      "cell_type": "markdown",
      "source": [
        "I have created 2 functions: queenastar() and myqueenastar().\n",
        "\n",
        "The only difference is queenastar() calls the original heuristic and myqueenastar() call the new heuristic."
      ],
      "metadata": {
        "id": "PvFQOZSwsWSR"
      }
    },
    {
      "cell_type": "markdown",
      "source": [
        "#### Trial 1: 4 queens"
      ],
      "metadata": {
        "id": "To1CKMAdvExX"
      }
    },
    {
      "cell_type": "code",
      "source": [
        "# Code to generate a 2D grid world.\n",
        "# 0 represents empty position and 1 will denote that a queen currently occupy the given position. \n",
        "\n",
        "import random\n",
        "import time\n",
        "\n",
        "size=4\n",
        "nodes_exp_l = []\n",
        "mynodes_exp = []\n",
        "optimal_cost = []\n",
        "myoptimal_cost = []\n",
        "time_t = []\n",
        "mytime_t = []\n",
        "\n",
        "\n",
        "start = time.time()\n",
        "nodes_exp, cost, solution=queenastar(size)\n",
        "end = time.time()\n",
        "time_t.append((end-start))\n",
        "nodes_exp_l.append(nodes_exp)\n",
        "optimal_cost.append(cost)\n",
        "print('Time' + str('%.2f' % (end-start)) + 's')\n",
        "print('Number of Nodes explored : ', nodes_exp)\n",
        "print('Path Cost : ', cost)\n",
        "print('\\nCHESS BOARD ===>')\n",
        "for i in range(size):\n",
        "  val = solution.pop(0)\n",
        "  for j in range(size):\n",
        "    \n",
        "    if(val==j):\n",
        "      print('1',end =\" \")\n",
        "    else:\n",
        "      print('0', end =\" \")\n",
        "  print(\"\\n\")\n",
        "\n",
        "print(\"\\nNew heuristic :\")\n",
        "start = time.time()\n",
        "nodes_exp, cost, solution=myqueenastar(size)\n",
        "end = time.time()\n",
        "mytime_t.append((end-start))\n",
        "mynodes_exp.append(nodes_exp)\n",
        "myoptimal_cost.append(cost)\n",
        "print('Time' + str('%.2f' % (end-start)) + 's')\n",
        "print('Number of Nodes explored : ', nodes_exp)\n",
        "print('Path Cost : ', cost)\n",
        "print('\\nCHESS BOARD ===>')\n",
        "for i in range(size):\n",
        "  val = solution.pop(0)\n",
        "  for j in range(size):\n",
        "    \n",
        "    if(val==j):\n",
        "      print('1',end =\" \")\n",
        "    else:\n",
        "      print('0', end =\" \")\n",
        "  print(\"\\n\")"
      ],
      "metadata": {
        "id": "T3xcLUcYtTz0",
        "colab": {
          "base_uri": "https://localhost:8080/"
        },
        "outputId": "3433afa2-9dcc-4432-9d2e-941ef044a7fd"
      },
      "execution_count": null,
      "outputs": [
        {
          "output_type": "stream",
          "name": "stdout",
          "text": [
            "Goal found\n",
            "Time0.00s\n",
            "Number of Nodes explored :  61\n",
            "Path Cost :  10\n",
            "\n",
            "CHESS BOARD ===>\n",
            "0 0 1 0 \n",
            "\n",
            "0 0 0 0 \n",
            "\n",
            "0 1 0 0 \n",
            "\n",
            "0 0 0 1 \n",
            "\n",
            "\n",
            "New heuristic :\n",
            "Goal found\n",
            "Time0.00s\n",
            "Number of Nodes explored :  61\n",
            "Path Cost :  10\n",
            "\n",
            "CHESS BOARD ===>\n",
            "0 0 1 0 \n",
            "\n",
            "0 0 0 0 \n",
            "\n",
            "0 1 0 0 \n",
            "\n",
            "0 0 0 1 \n",
            "\n"
          ]
        }
      ]
    },
    {
      "cell_type": "markdown",
      "source": [
        "The above output first shows the time, number of nodes explored, path cost for original heurstic and then for the new heuristic."
      ],
      "metadata": {
        "id": "-rgW0yZCzwBp"
      }
    },
    {
      "cell_type": "markdown",
      "source": [
        "#### Trial 2: 5 queens"
      ],
      "metadata": {
        "id": "n5oHI-SrvRhj"
      }
    },
    {
      "cell_type": "code",
      "source": [
        "# Code to generate a 2D grid world.\n",
        "# 0 represents empty position and 1 will denote that a queen currently occupy the given position. \n",
        "size=5\n",
        "\n",
        "\n",
        "\n",
        "\n",
        "start = time.time()\n",
        "nodes_exp, cost, solution=queenastar(size)\n",
        "end = time.time()\n",
        "time_t.append((end-start))\n",
        "nodes_exp_l.append(nodes_exp)\n",
        "optimal_cost.append(cost)\n",
        "print('Time' + str('%.2f' % (end-start)) + 's')\n",
        "print('Number of Nodes explored : ', nodes_exp)\n",
        "print('Path Cost : ', cost)\n",
        "print('\\nCHESS BOARD ===>')\n",
        "for i in range(size):\n",
        "  val = solution.pop(0)\n",
        "  for j in range(size):\n",
        "    \n",
        "    if(val==j):\n",
        "      print('1',end =\" \")\n",
        "    else:\n",
        "      print('0', end =\" \")\n",
        "  print(\"\\n\")\n",
        "\n",
        "print(\"\\nNew heuristic :\")\n",
        "start = time.time()\n",
        "nodes_exp, cost, solution=myqueenastar(size)\n",
        "end = time.time()\n",
        "mytime_t.append((end-start))\n",
        "mynodes_exp.append(nodes_exp)\n",
        "myoptimal_cost.append(cost)\n",
        "print('Time' + str('%.2f' % (end-start)) + 's')\n",
        "print('Number of Nodes explored : ', nodes_exp)\n",
        "print('Path Cost : ', cost)\n",
        "print('\\nCHESS BOARD ===>')\n",
        "for i in range(size):\n",
        "  val = solution.pop(0)\n",
        "  for j in range(size):\n",
        "    \n",
        "    if(val==j):\n",
        "      print('1',end =\" \")\n",
        "    else:\n",
        "      print('0', end =\" \")\n",
        "  print(\"\\n\")"
      ],
      "metadata": {
        "id": "LOSYPryLvN9B",
        "colab": {
          "base_uri": "https://localhost:8080/"
        },
        "outputId": "be272726-a276-45a0-f0ed-79e14ce39cb4"
      },
      "execution_count": null,
      "outputs": [
        {
          "output_type": "stream",
          "name": "stdout",
          "text": [
            "Goal found\n",
            "Time0.01s\n",
            "Number of Nodes explored :  286\n",
            "Path Cost :  15\n",
            "\n",
            "CHESS BOARD ===>\n",
            "0 1 0 0 0 \n",
            "\n",
            "0 0 0 1 0 \n",
            "\n",
            "0 0 0 0 0 \n",
            "\n",
            "0 0 1 0 0 \n",
            "\n",
            "0 0 0 0 1 \n",
            "\n",
            "\n",
            "New heuristic :\n",
            "Goal found\n",
            "Time0.01s\n",
            "Number of Nodes explored :  286\n",
            "Path Cost :  15\n",
            "\n",
            "CHESS BOARD ===>\n",
            "0 1 0 0 0 \n",
            "\n",
            "0 0 0 1 0 \n",
            "\n",
            "0 0 0 0 0 \n",
            "\n",
            "0 0 1 0 0 \n",
            "\n",
            "0 0 0 0 1 \n",
            "\n"
          ]
        }
      ]
    },
    {
      "cell_type": "markdown",
      "source": [
        "#### Trial 3: 6 queens"
      ],
      "metadata": {
        "id": "-lAAy4-7vNva"
      }
    },
    {
      "cell_type": "code",
      "source": [
        "# Code to generate a 2D grid world.\n",
        "# 0 represents empty position and 1 will denote that a queen currently occupy the given position. \n",
        "\n",
        "size=6\n",
        "\n",
        "\n",
        "start = time.time()\n",
        "nodes_exp, cost, solution=queenastar(size)\n",
        "end = time.time()\n",
        "time_t.append((end-start))\n",
        "nodes_exp_l.append(nodes_exp)\n",
        "optimal_cost.append(cost)\n",
        "print('Time' + str('%.2f' % (end-start)) + 's')\n",
        "print('Number of Nodes explored : ', nodes_exp)\n",
        "print('Path Cost : ', cost)\n",
        "print('\\nCHESS BOARD ===>')\n",
        "for i in range(size):\n",
        "  val = solution.pop(0)\n",
        "  for j in range(size):\n",
        "    \n",
        "    if(val==j):\n",
        "      print('1',end =\" \")\n",
        "    else:\n",
        "      print('0', end =\" \")\n",
        "  print(\"\\n\")\n",
        "\n",
        "print(\"\\nNew heuristic :\")\n",
        "start = time.time()\n",
        "nodes_exp, cost, solution=myqueenastar(size)\n",
        "end = time.time()\n",
        "mytime_t.append((end-start))\n",
        "mynodes_exp.append(nodes_exp)\n",
        "myoptimal_cost.append(cost)\n",
        "print('Time' + str('%.2f' % (end-start)) + 's')\n",
        "print('Number of Nodes explored : ', nodes_exp)\n",
        "print('Path Cost : ', cost)\n",
        "print('\\nCHESS BOARD ===>')\n",
        "for i in range(size):\n",
        "  val = solution.pop(0)\n",
        "  for j in range(size):\n",
        "    \n",
        "    if(val==j):\n",
        "      print('1',end =\" \")\n",
        "    else:\n",
        "      print('0', end =\" \")\n",
        "  print(\"\\n\")\n"
      ],
      "metadata": {
        "id": "3ycNWOfWvNii",
        "colab": {
          "base_uri": "https://localhost:8080/"
        },
        "outputId": "c722ce75-575c-4f7a-b4f3-c1eed913842a"
      },
      "execution_count": null,
      "outputs": [
        {
          "output_type": "stream",
          "name": "stdout",
          "text": [
            "Goal found\n",
            "Time0.05s\n",
            "Number of Nodes explored :  1639\n",
            "Path Cost :  21\n",
            "\n",
            "CHESS BOARD ===>\n",
            "0 0 1 0 0 0 \n",
            "\n",
            "0 0 0 0 1 0 \n",
            "\n",
            "0 0 0 0 0 0 \n",
            "\n",
            "0 1 0 0 0 0 \n",
            "\n",
            "0 0 0 1 0 0 \n",
            "\n",
            "0 0 0 0 0 1 \n",
            "\n",
            "\n",
            "New heuristic :\n",
            "Goal found\n",
            "Time0.05s\n",
            "Number of Nodes explored :  1639\n",
            "Path Cost :  21\n",
            "\n",
            "CHESS BOARD ===>\n",
            "0 0 1 0 0 0 \n",
            "\n",
            "0 0 0 0 1 0 \n",
            "\n",
            "0 0 0 0 0 0 \n",
            "\n",
            "0 1 0 0 0 0 \n",
            "\n",
            "0 0 0 1 0 0 \n",
            "\n",
            "0 0 0 0 0 1 \n",
            "\n"
          ]
        }
      ]
    },
    {
      "cell_type": "markdown",
      "source": [
        "#### Trial 4: 7 queens"
      ],
      "metadata": {
        "id": "l04jfgLyvNW0"
      }
    },
    {
      "cell_type": "code",
      "source": [
        "# Code to generate a 2D grid world.\n",
        "# 0 represents empty position and 1 will denote that a queen currently occupy the given position. \n",
        "size=7\n",
        "\n",
        "\n",
        "start = time.time()\n",
        "nodes_exp, cost, solution=queenastar(size)\n",
        "end = time.time()\n",
        "time_t.append((end-start))\n",
        "nodes_exp_l.append(nodes_exp)\n",
        "optimal_cost.append(cost)\n",
        "print('Time' + str('%.2f' % (end-start)) + 's')\n",
        "print('Number of Nodes explored : ', nodes_exp)\n",
        "print('Path Cost : ', cost)\n",
        "print('\\nCHESS BOARD ===>')\n",
        "for i in range(size):\n",
        "  val = solution.pop(0)\n",
        "  for j in range(size):\n",
        "    \n",
        "    if(val==j):\n",
        "      print('1',end =\" \")\n",
        "    else:\n",
        "      print('0', end =\" \")\n",
        "  print(\"\\n\")\n",
        "\n",
        "print(\"\\nNew heuristic :\")\n",
        "start = time.time()\n",
        "nodes_exp, cost, solution=myqueenastar(size)\n",
        "end = time.time()\n",
        "mytime_t.append((end-start))\n",
        "mynodes_exp.append(nodes_exp)\n",
        "myoptimal_cost.append(cost)\n",
        "print('Time' + str('%.2f' % (end-start)) + 's')\n",
        "print('Number of Nodes explored : ', nodes_exp)\n",
        "print('Path Cost : ', cost)\n",
        "print('\\nCHESS BOARD ===>')\n",
        "for i in range(size):\n",
        "  val = solution.pop(0)\n",
        "  for j in range(size):\n",
        "    \n",
        "    if(val==j):\n",
        "      print('1',end =\" \")\n",
        "    else:\n",
        "      print('0', end =\" \")\n",
        "  print(\"\\n\")\n"
      ],
      "metadata": {
        "id": "9B2LK3SGvM_g",
        "colab": {
          "base_uri": "https://localhost:8080/"
        },
        "outputId": "cc1a54db-d8bc-4b66-c196-0dbc112f1753"
      },
      "execution_count": null,
      "outputs": [
        {
          "output_type": "stream",
          "name": "stdout",
          "text": [
            "Goal found\n",
            "Time0.27s\n",
            "Number of Nodes explored :  9675\n",
            "Path Cost :  28\n",
            "\n",
            "CHESS BOARD ===>\n",
            "0 1 0 0 0 0 0 \n",
            "\n",
            "0 0 0 1 0 0 0 \n",
            "\n",
            "0 0 0 0 0 1 0 \n",
            "\n",
            "0 0 0 0 0 0 0 \n",
            "\n",
            "0 0 1 0 0 0 0 \n",
            "\n",
            "0 0 0 0 1 0 0 \n",
            "\n",
            "0 0 0 0 0 0 1 \n",
            "\n",
            "\n",
            "New heuristic :\n",
            "Goal found\n",
            "Time0.29s\n",
            "Number of Nodes explored :  9052\n",
            "Path Cost :  28\n",
            "\n",
            "CHESS BOARD ===>\n",
            "0 1 0 0 0 0 0 \n",
            "\n",
            "0 0 0 1 0 0 0 \n",
            "\n",
            "0 0 0 0 0 1 0 \n",
            "\n",
            "0 0 0 0 0 0 0 \n",
            "\n",
            "0 0 1 0 0 0 0 \n",
            "\n",
            "0 0 0 0 1 0 0 \n",
            "\n",
            "0 0 0 0 0 0 1 \n",
            "\n"
          ]
        }
      ]
    },
    {
      "cell_type": "markdown",
      "source": [
        "#### Trial 5: 8 queens"
      ],
      "metadata": {
        "id": "QvRBneJMvM0G"
      }
    },
    {
      "cell_type": "code",
      "source": [
        "# Code to generate a 2D grid world.\n",
        "# 0 represents empty position and 1 will denote that a queen currently occupy the given position. \n",
        "size=8\n",
        "\n",
        "\n",
        "\n",
        "start = time.time()\n",
        "nodes_exp, cost, solution=queenastar(size)\n",
        "end = time.time()\n",
        "time_t.append((end-start))\n",
        "nodes_exp_l.append(nodes_exp)\n",
        "optimal_cost.append(cost)\n",
        "print('Time' + str('%.2f' % (end-start)) + 's')\n",
        "print('Number of Nodes explored : ', nodes_exp)\n",
        "print('Path Cost : ', cost)\n",
        "print('\\nCHESS BOARD ===>')\n",
        "for i in range(size):\n",
        "  val = solution.pop(0)\n",
        "  for j in range(size):\n",
        "    \n",
        "    if(val==j):\n",
        "      print('1',end =\" \")\n",
        "    else:\n",
        "      print('0', end =\" \")\n",
        "  print(\"\\n\")\n",
        "\n",
        "print(\"\\nNew heuristic :\")\n",
        "start = time.time()\n",
        "nodes_exp, cost, solution=myqueenastar(size)\n",
        "end = time.time()\n",
        "mytime_t.append((end-start))\n",
        "mynodes_exp.append(nodes_exp)\n",
        "myoptimal_cost.append(cost)\n",
        "print('Time' + str('%.2f' % (end-start)) + 's')\n",
        "print('Number of Nodes explored : ', nodes_exp)\n",
        "print('Path Cost : ', cost)\n",
        "print('\\nCHESS BOARD ===>')\n",
        "for i in range(size):\n",
        "  val = solution.pop(0)\n",
        "  for j in range(size):\n",
        "    \n",
        "    if(val==j):\n",
        "      print('1',end =\" \")\n",
        "    else:\n",
        "      print('0', end =\" \")\n",
        "  print(\"\\n\")"
      ],
      "metadata": {
        "id": "RbO63qGFvMnQ",
        "colab": {
          "base_uri": "https://localhost:8080/"
        },
        "outputId": "0f0bdd1f-b0ad-43ab-f096-7da50d832b1d"
      },
      "execution_count": null,
      "outputs": [
        {
          "output_type": "stream",
          "name": "stdout",
          "text": [
            "Goal found\n",
            "Time2.12s\n",
            "Number of Nodes explored :  65097\n",
            "Path Cost :  36\n",
            "\n",
            "CHESS BOARD ===>\n",
            "0 1 0 0 0 0 0 0 \n",
            "\n",
            "0 0 0 0 0 1 0 0 \n",
            "\n",
            "0 0 0 0 0 0 0 0 \n",
            "\n",
            "0 0 0 0 0 0 1 0 \n",
            "\n",
            "0 0 0 1 0 0 0 0 \n",
            "\n",
            "0 0 0 0 0 0 0 1 \n",
            "\n",
            "0 0 1 0 0 0 0 0 \n",
            "\n",
            "0 0 0 0 1 0 0 0 \n",
            "\n",
            "\n",
            "New heuristic :\n",
            "Goal found\n",
            "Time1.65s\n",
            "Number of Nodes explored :  53945\n",
            "Path Cost :  36\n",
            "\n",
            "CHESS BOARD ===>\n",
            "0 1 0 0 0 0 0 0 \n",
            "\n",
            "0 0 0 0 0 1 0 0 \n",
            "\n",
            "0 0 0 0 0 0 0 0 \n",
            "\n",
            "0 0 0 0 0 0 1 0 \n",
            "\n",
            "0 0 0 1 0 0 0 0 \n",
            "\n",
            "0 0 0 0 0 0 0 1 \n",
            "\n",
            "0 0 1 0 0 0 0 0 \n",
            "\n",
            "0 0 0 0 1 0 0 0 \n",
            "\n"
          ]
        }
      ]
    },
    {
      "cell_type": "markdown",
      "source": [
        "#### Trial 6: 9 queens"
      ],
      "metadata": {
        "id": "YuEmOyNXKaY0"
      }
    },
    {
      "cell_type": "code",
      "source": [
        "# Code to generate a 2D grid world\n",
        "# 0 represents empty position and 1 will denote that a queen currently occupy the given position. \n",
        "size= 9\n",
        "\n",
        "\n",
        "\n",
        "start = time.time()\n",
        "nodes_exp, cost, solution=queenastar(size)\n",
        "end = time.time()\n",
        "time_t.append((end-start))\n",
        "nodes_exp_l.append(nodes_exp)\n",
        "optimal_cost.append(cost)\n",
        "print('Time' + str('%.2f' % (end-start)) + 's')\n",
        "print('Number of Nodes explored : ', nodes_exp)\n",
        "print('Path Cost : ', cost)\n",
        "print('\\nCHESS BOARD ===>')\n",
        "for i in range(size):\n",
        "  val = solution.pop(0)\n",
        "  for j in range(size):\n",
        "    \n",
        "    if(val==j):\n",
        "      print('1',end =\" \")\n",
        "    else:\n",
        "      print('0', end =\" \")\n",
        "  print(\"\\n\")\n",
        "\n",
        "print(\"\\nNew heuristic :\")\n",
        "start = time.time()\n",
        "nodes_exp, cost, solution=myqueenastar(size)\n",
        "end = time.time()\n",
        "mytime_t.append((end-start))\n",
        "mynodes_exp.append(nodes_exp)\n",
        "myoptimal_cost.append(cost)\n",
        "print('Time' + str('%.2f' % (end-start)) + 's')\n",
        "print('Number of Nodes explored : ', nodes_exp)\n",
        "print('Path Cost : ', cost)\n",
        "print('\\nCHESS BOARD ===>')\n",
        "for i in range(size):\n",
        "  val = solution.pop(0)\n",
        "  for j in range(size):\n",
        "    \n",
        "    if(val==j):\n",
        "      print('1',end =\" \")\n",
        "    else:\n",
        "      print('0', end =\" \")\n",
        "  print(\"\\n\")"
      ],
      "metadata": {
        "id": "IujVrjEzKiew",
        "colab": {
          "base_uri": "https://localhost:8080/"
        },
        "outputId": "fbbf8dcc-4b9d-44de-aa3b-9cde68bbd10d"
      },
      "execution_count": null,
      "outputs": [
        {
          "output_type": "stream",
          "name": "stdout",
          "text": [
            "Goal found\n",
            "Time18.33s\n",
            "Number of Nodes explored :  491860\n",
            "Path Cost :  45\n",
            "\n",
            "CHESS BOARD ===>\n",
            "0 1 0 0 0 0 0 0 0 \n",
            "\n",
            "0 0 0 1 0 0 0 0 0 \n",
            "\n",
            "0 0 0 0 0 0 1 0 0 \n",
            "\n",
            "0 0 0 0 0 0 0 0 1 \n",
            "\n",
            "0 0 1 0 0 0 0 0 0 \n",
            "\n",
            "0 0 0 0 1 0 0 0 0 \n",
            "\n",
            "0 0 0 0 0 0 0 0 0 \n",
            "\n",
            "0 0 0 0 0 0 0 1 0 \n",
            "\n",
            "0 0 0 0 0 1 0 0 0 \n",
            "\n",
            "\n",
            "New heuristic :\n",
            "Goal found\n",
            "Time13.26s\n",
            "Number of Nodes explored :  363610\n",
            "Path Cost :  45\n",
            "\n",
            "CHESS BOARD ===>\n",
            "0 1 0 0 0 0 0 0 0 \n",
            "\n",
            "0 0 0 1 0 0 0 0 0 \n",
            "\n",
            "0 0 0 0 0 0 1 0 0 \n",
            "\n",
            "0 0 0 0 0 0 0 0 1 \n",
            "\n",
            "0 0 1 0 0 0 0 0 0 \n",
            "\n",
            "0 0 0 0 1 0 0 0 0 \n",
            "\n",
            "0 0 0 0 0 0 0 0 0 \n",
            "\n",
            "0 0 0 0 0 0 0 1 0 \n",
            "\n",
            "0 0 0 0 0 1 0 0 0 \n",
            "\n"
          ]
        }
      ]
    },
    {
      "cell_type": "markdown",
      "source": [
        "#### Trial 7: 10 queens"
      ],
      "metadata": {
        "id": "lpMp5CDVKdbK"
      }
    },
    {
      "cell_type": "code",
      "source": [
        "# Code to generate a 2D grid world.\n",
        "# 0 represents empty position and 1 will denote that a queen currently occupy the given position. \n",
        "size= 10\n",
        "\n",
        "\n",
        "\n",
        "start = time.time()\n",
        "nodes_exp, cost, solution=queenastar(size)\n",
        "end = time.time()\n",
        "time_t.append((end-start))\n",
        "nodes_exp_l.append(nodes_exp)\n",
        "optimal_cost.append(cost)\n",
        "print('Time' + str('%.2f' % (end-start)) + 's')\n",
        "print('Number of Nodes explored : ', nodes_exp)\n",
        "print('Path Cost : ', cost)\n",
        "print('\\nCHESS BOARD ===>')\n",
        "for i in range(size):\n",
        "  val = solution.pop(0)\n",
        "  for j in range(size):\n",
        "    \n",
        "    if(val==j):\n",
        "      print('1',end =\" \")\n",
        "    else:\n",
        "      print('0', end =\" \")\n",
        "  print(\"\\n\")\n",
        "\n",
        "print(\"\\nNew heuristic :\")\n",
        "start = time.time()\n",
        "nodes_exp, cost, solution=myqueenastar(size)\n",
        "end = time.time()\n",
        "mytime_t.append((end-start))\n",
        "mynodes_exp.append(nodes_exp)\n",
        "myoptimal_cost.append(cost)\n",
        "print('Time' + str('%.2f' % (end-start)) + 's')\n",
        "print('Number of Nodes explored : ', nodes_exp)\n",
        "print('Path Cost : ', cost)\n",
        "print('\\nCHESS BOARD ===>')\n",
        "for i in range(size):\n",
        "  val = solution.pop(0)\n",
        "  for j in range(size):\n",
        "    \n",
        "    if(val==j):\n",
        "      print('1',end =\" \")\n",
        "    else:\n",
        "      print('0', end =\" \")\n",
        "  print(\"\\n\")"
      ],
      "metadata": {
        "id": "O8Rbzve5KnkQ",
        "colab": {
          "base_uri": "https://localhost:8080/"
        },
        "outputId": "74dd273a-d8ac-48be-c9b0-b311e30f3e0e"
      },
      "execution_count": null,
      "outputs": [
        {
          "output_type": "stream",
          "name": "stdout",
          "text": [
            "Goal found\n",
            "Time165.54s\n",
            "Number of Nodes explored :  3928951\n",
            "Path Cost :  55\n",
            "\n",
            "CHESS BOARD ===>\n",
            "0 1 0 0 0 0 0 0 0 0 \n",
            "\n",
            "0 0 0 1 0 0 0 0 0 0 \n",
            "\n",
            "0 0 0 0 0 0 1 0 0 0 \n",
            "\n",
            "0 0 0 0 0 0 0 0 1 0 \n",
            "\n",
            "0 0 0 0 0 0 0 0 0 0 \n",
            "\n",
            "0 0 0 0 0 1 0 0 0 0 \n",
            "\n",
            "0 0 0 0 0 0 0 0 0 1 \n",
            "\n",
            "0 0 1 0 0 0 0 0 0 0 \n",
            "\n",
            "0 0 0 0 1 0 0 0 0 0 \n",
            "\n",
            "0 0 0 0 0 0 0 1 0 0 \n",
            "\n",
            "\n",
            "New heuristic :\n",
            "Goal found\n",
            "Time106.66s\n",
            "Number of Nodes explored :  2632391\n",
            "Path Cost :  55\n",
            "\n",
            "CHESS BOARD ===>\n",
            "0 1 0 0 0 0 0 0 0 0 \n",
            "\n",
            "0 0 0 1 0 0 0 0 0 0 \n",
            "\n",
            "0 0 0 0 0 0 1 0 0 0 \n",
            "\n",
            "0 0 0 0 0 0 0 0 1 0 \n",
            "\n",
            "0 0 0 0 0 0 0 0 0 0 \n",
            "\n",
            "0 0 0 0 0 1 0 0 0 0 \n",
            "\n",
            "0 0 0 0 0 0 0 0 0 1 \n",
            "\n",
            "0 0 1 0 0 0 0 0 0 0 \n",
            "\n",
            "0 0 0 0 1 0 0 0 0 0 \n",
            "\n",
            "0 0 0 0 0 0 0 1 0 0 \n",
            "\n"
          ]
        }
      ]
    },
    {
      "cell_type": "code",
      "source": [
        "X = [4, 5, 6, 7, 8, 9, 10]\n",
        "\n",
        "'''nodes_exp_l = []\n",
        "mynodes_exp = []\n",
        "optimal_cost = []\n",
        "myoptimal_cost = []\n",
        "time_t = []\n",
        "mytime_t = []'''\n",
        "n_e=sns.barplot(x=X, y=nodes_exp_l, palette=\"husl\",lw=3,ec=\"black\",hatch=\"..\")\n",
        "n_e.set(xlabel =\"SIZE\", ylabel = \"Nodes Explored\")\n",
        "\n"
      ],
      "metadata": {
        "colab": {
          "base_uri": "https://localhost:8080/",
          "height": 307
        },
        "id": "VIEypSuLuAr4",
        "outputId": "a910a49e-9775-4767-f4b1-e54ae3e54b7f"
      },
      "execution_count": null,
      "outputs": [
        {
          "output_type": "execute_result",
          "data": {
            "text/plain": [
              "[Text(0, 0.5, 'Nodes Explored'), Text(0.5, 0, 'SIZE')]"
            ]
          },
          "metadata": {},
          "execution_count": 129
        },
        {
          "output_type": "display_data",
          "data": {
            "image/png": "[encoded data removed]",
            "text/plain": [
              "<Figure size 432x288 with 1 Axes>"
            ]
          },
          "metadata": {
            "needs_background": "light"
          }
        }
      ]
    },
    {
      "cell_type": "markdown",
      "source": [
        "**Observations:**\n",
        "\n",
        "\n",
        "*   The graph above represents number of nodes explored for each trial size.\n",
        "*   We can see as the size increases the number of nodes explored increases exponentially. This happens because as we increase the size the number of states also increase, so ultimately this leads to more number of states explored.\n",
        "\n"
      ],
      "metadata": {
        "id": "C2XYLzQYtj4j"
      }
    },
    {
      "cell_type": "code",
      "source": [
        "o_c=sns.barplot(x=X, y=optimal_cost, palette=\"husl\",lw=3,ec=\"black\",hatch=\"..\")\n",
        "o_c.set(xlabel =\"SIZE\", ylabel = \"Optimal Cost\")"
      ],
      "metadata": {
        "colab": {
          "base_uri": "https://localhost:8080/",
          "height": 296
        },
        "id": "RXRIoQ7Q0tLP",
        "outputId": "1ccb84fe-6b75-4061-9025-006dbcd8c50b"
      },
      "execution_count": null,
      "outputs": [
        {
          "output_type": "execute_result",
          "data": {
            "text/plain": [
              "[Text(0, 0.5, 'Optimal Cost'), Text(0.5, 0, 'SIZE')]"
            ]
          },
          "metadata": {},
          "execution_count": 125
        },
        {
          "output_type": "display_data",
          "data": {
            "image/png": "[encoded data removed]",
            "text/plain": [
              "<Figure size 432x288 with 1 Axes>"
            ]
          },
          "metadata": {
            "needs_background": "light"
          }
        }
      ]
    },
    {
      "cell_type": "markdown",
      "source": [
        "**Observations:**\n",
        "\n",
        "\n",
        "*   The above graph represents the optimal cost for each trial size.\n",
        "*   As size increases the optimal cost also increases. This happens because as we increase the size the cost to reach the goal state also increases.\n",
        "\n"
      ],
      "metadata": {
        "id": "XtOcO0ZbuFjZ"
      }
    },
    {
      "cell_type": "code",
      "source": [
        "t_t = sns.barplot(x=X, y=time_t, palette=\"husl\",lw=3,ec=\"black\",hatch=\"..\")\n",
        "t_t.set(xlabel =\"SIZE\", ylabel = \"Time in seconds\")"
      ],
      "metadata": {
        "colab": {
          "base_uri": "https://localhost:8080/",
          "height": 296
        },
        "id": "vjHXiW-o1KDy",
        "outputId": "a2a6c779-c7b8-4975-bec2-6fba9ccf1892"
      },
      "execution_count": null,
      "outputs": [
        {
          "output_type": "execute_result",
          "data": {
            "text/plain": [
              "[Text(0, 0.5, 'Time in seconds'), Text(0.5, 0, 'SIZE')]"
            ]
          },
          "metadata": {},
          "execution_count": 128
        },
        {
          "output_type": "display_data",
          "data": {
            "image/png": "[encoded data removed]",
            "text/plain": [
              "<Figure size 432x288 with 1 Axes>"
            ]
          },
          "metadata": {
            "needs_background": "light"
          }
        }
      ]
    },
    {
      "cell_type": "markdown",
      "source": [
        "**Observations:**\n",
        "\n",
        "\n",
        "*   The above graph represents time for finding the goal state for each trial.\n",
        "*   We can see as we increase the size the time also increases very significantly. This happens because increase in size leads to increase in number of states and thus the search takes more time to find the goal state. \n",
        "\n"
      ],
      "metadata": {
        "id": "gjpCBwUhuh9a"
      }
    },
    {
      "cell_type": "code",
      "source": [
        "time_h = []\n",
        "time_h.append(np.mean(time_t))\n",
        "time_h.append(np.mean(mytime_t))\n",
        "heuristics = [\"Original\", \"New\"]\n",
        "sns.barplot(x=heuristics, y=time_h, palette=\"husl\",lw=3,ec=\"black\",hatch=\"..\")\n"
      ],
      "metadata": {
        "colab": {
          "base_uri": "https://localhost:8080/",
          "height": 282
        },
        "id": "JQ7viJsZ1a1r",
        "outputId": "556c966d-bd15-4956-b541-a682f3224190"
      },
      "execution_count": null,
      "outputs": [
        {
          "output_type": "execute_result",
          "data": {
            "text/plain": [
              "<matplotlib.axes._subplots.AxesSubplot at 0x7f7b2fc816d0>"
            ]
          },
          "metadata": {},
          "execution_count": 132
        },
        {
          "output_type": "display_data",
          "data": {
            "image/png": "[encoded data removed]",
            "text/plain": [
              "<Figure size 432x288 with 1 Axes>"
            ]
          },
          "metadata": {
            "needs_background": "light"
          }
        }
      ]
    },
    {
      "cell_type": "markdown",
      "source": [
        "**Observations:**\n",
        "\n",
        "\n",
        "*   The above graph helps in comparing the original heuristic with the new heuristic.\n",
        "*   Y-axis shows the mean time of all the trials for each heuristic function.\n",
        "\n",
        "\n",
        "*   We can clearly notice that new heuristic function returns better time than our original heuristic function.\n",
        "*   So, we can see that the new heuristic function performs better than the original heuristic function.\n",
        "\n",
        "\n",
        "\n"
      ],
      "metadata": {
        "id": "HPM8rDOqv9sa"
      }
    }
  ]
}